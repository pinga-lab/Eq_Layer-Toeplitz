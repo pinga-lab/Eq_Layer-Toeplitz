{
 "cells": [
  {
   "cell_type": "code",
   "execution_count": 1,
   "metadata": {},
   "outputs": [
    {
     "name": "stderr",
     "output_type": "stream",
     "text": [
      "/home/vanderlei/Documents/fatiando/fatiando/vis/mpl.py:70: UserWarning: This module will be removed in v0.6. We recommend the use of matplotlib.pyplot module directly. Some of the fatiando specific functions will remain.\n",
      "  \"specific functions will remain.\")\n"
     ]
    }
   ],
   "source": [
    "import numpy as np\n",
    "import functions as fc\n",
    "from timeit import default_timer as time\n",
    "from fatiando.gravmag import polyprism, sphere\n",
    "from fatiando import mesher, gridder,utils\n",
    "from fatiando.constants import G, SI2MGAL\n",
    "from matplotlib import pyplot as plt\n",
    "from fatiando.vis import mpl\n",
    "import cPickle as pickle\n",
    "%matplotlib inline"
   ]
  },
  {
   "cell_type": "markdown",
   "metadata": {},
   "source": [
    "## Create the model"
   ]
  },
  {
   "cell_type": "code",
   "execution_count": 2,
   "metadata": {},
   "outputs": [],
   "source": [
    "# Polygonal Prism model\n",
    "verts1 = [[-500, -3000], [0, -3500], [4500, 0], [4000, 500]]\n",
    "verts2 = [[4000, -3000], [4500, -2500], [0, 3500], [-500, 3000]]\n",
    "\n",
    "model_prism = [mesher.PolygonalPrism(verts1, 900., 1500., props={'density':350}),\n",
    "               mesher.PolygonalPrism(verts2, 1600., 2200., props={'density':400})]\n",
    "R = 1000 #Radius\n",
    "xc, yc, zc = -3000.,0.,2000. #Center of sphere\n",
    "model_sphere = [mesher.Sphere(xc, yc, zc,R, props={'density':-500})]"
   ]
  },
  {
   "cell_type": "markdown",
   "metadata": {
    "collapsed": true
   },
   "source": [
    "# Time VS Observation points - Up to 22 500"
   ]
  },
  {
   "cell_type": "markdown",
   "metadata": {},
   "source": [
    "### Calculate the time necessary to run the Equivalent Layer with Siqueira et al. (2017)"
   ]
  },
  {
   "cell_type": "code",
   "execution_count": 3,
   "metadata": {},
   "outputs": [
    {
     "name": "stdout",
     "output_type": "stream",
     "text": [
      "(10, 10)\n",
      "(20, 20)\n",
      "(30, 30)\n",
      "(40, 40)\n",
      "(50, 50)\n",
      "(60, 60)\n",
      "(70, 70)\n",
      "(80, 80)\n",
      "(90, 90)\n",
      "(100, 100)\n",
      "(150, 150)\n"
     ]
    }
   ],
   "source": [
    "time_old = []\n",
    "N_time_0 = []\n",
    "shape_0 = [(10,10),(20,20),(30,30),(40,40),(50, 50),(60,60),(70,70),(80,80),(90,90),(100, 100),(150, 150)]\n",
    "#shape_0 = [(200, 200)]\n",
    "for i in range(len(shape_0)):\n",
    "    print(shape_0[i])\n",
    "    # Create a regular grid at 0m height\n",
    "    area = [-5000, 5000, -4000, 4000]\n",
    "    xi, yi, zi = gridder.regular(area, shape_0[i], z=100.)\n",
    "    #delta_s  = (area[1]-area[0])/(shape[i][0]-1.)\n",
    "\n",
    "    # Vertical component of the gravitational atraction observed\n",
    "    dobs_prism = polyprism.gz(xi, yi, zi, model_prism)\n",
    "    dobs_sphere = sphere.gz(xi, yi, zi, model_sphere)\n",
    "    dobs = dobs_sphere + dobs_prism\n",
    "    dobs = utils.contaminate(dobs, 0.005, seed=0, percent=True)\n",
    "\n",
    "    zj = np.ones_like(zi)*300\n",
    "\n",
    "    itmax = 50\n",
    "    s = time()\n",
    "    rho, gzp = fc.fast_eq(xi,yi,zi,zj,shape_0[i],dobs,itmax)\n",
    "    e = time()\n",
    "    tcpu_0 = e - s\n",
    "    time_old.append(tcpu_0)\n",
    "    n_shape_0 = shape_0[i][0]*shape_0[i][1]\n",
    "    N_time_0.append(n_shape_0)"
   ]
  },
  {
   "cell_type": "markdown",
   "metadata": {},
   "source": [
    "### Calculate the time necessary to run the Equivalent Layer with BTTB method"
   ]
  },
  {
   "cell_type": "code",
   "execution_count": 4,
   "metadata": {},
   "outputs": [
    {
     "name": "stdout",
     "output_type": "stream",
     "text": [
      "(10, 10)\n",
      "(20, 20)\n",
      "(30, 30)\n",
      "(40, 40)\n",
      "(50, 50)\n",
      "(60, 60)\n",
      "(70, 70)\n",
      "(80, 80)\n",
      "(90, 90)\n",
      "(100, 100)\n",
      "(150, 150)\n"
     ]
    }
   ],
   "source": [
    "time_new = []\n",
    "N_time = []\n",
    "#shape = [(10,10),(50, 50),(100, 100),(200, 200),(300, 300),(400, 400),(500, 500),(1000, 1000),(1500,1500),(2000, 2000)]\n",
    "shape = [(10,10),(20,20),(30,30),(40,40),(50, 50),(60,60),(70,70),(80,80),(90,90),(100, 100),(150, 150)]\n",
    "for i in range(len(shape)):\n",
    "    print(shape[i])\n",
    "    # Create a regular grid at 0m height\n",
    "    area = [-5000, 5000, -4000, 4000]\n",
    "    xi, yi, zi = gridder.regular(area, shape[i], z=100.)\n",
    "    #delta_s  = (area[1]-area[0])/(shape[i][0]-1.)\n",
    "\n",
    "    # Vertical component of the gravitational atraction observed\n",
    "    dobs_prism = polyprism.gz(xi, yi, zi, model_prism)\n",
    "    dobs_sphere = sphere.gz(xi, yi, zi, model_sphere)\n",
    "    dobs = dobs_sphere + dobs_prism\n",
    "    dobs = utils.contaminate(dobs, 0.005, seed=0, percent=True)\n",
    "\n",
    "    zj = np.ones_like(zi)*300\n",
    "\n",
    "    itmax = 50\n",
    "    s = time()\n",
    "    rho_c, gzp_bccb = fc.fast_eq_bccb(xi,yi,zi,zj,shape[i],dobs,itmax)\n",
    "    e = time()\n",
    "    tcpu = e - s\n",
    "    time_new.append(tcpu)\n",
    "    n_shape = shape[i][0]*shape[i][1]\n",
    "    N_time.append(n_shape)"
   ]
  },
  {
   "cell_type": "code",
   "execution_count": 5,
   "metadata": {},
   "outputs": [],
   "source": [
    "runtime_22500 = dict()\n",
    "runtime_22500['fast_eql'] = time_old\n",
    "runtime_22500['bttb'] = time_new\n",
    "runtime_22500['N'] = N_time"
   ]
  },
  {
   "cell_type": "code",
   "execution_count": 6,
   "metadata": {},
   "outputs": [],
   "source": [
    "#save the data\n",
    "file_name = 'runtime_22500.pickle'\n",
    "with open(file_name, 'w') as f:\n",
    "    pickle.dump(runtime_22500, f)"
   ]
  },
  {
   "cell_type": "code",
   "execution_count": 7,
   "metadata": {},
   "outputs": [
    {
     "data": {
      "text/plain": [
       "<matplotlib.legend.Legend at 0x7faf39f29490>"
      ]
     },
     "execution_count": 7,
     "metadata": {},
     "output_type": "execute_result"
    },
    {
     "data": {
      "image/png": "[encoded data removed]",
      "text/plain": [
       "<Figure size 720x432 with 1 Axes>"
      ]
     },
     "metadata": {
      "needs_background": "light"
     },
     "output_type": "display_data"
    }
   ],
   "source": [
    "plt.figure(figsize=(10,6))\n",
    "plt.semilogx(N_time_0, time_old, 'ko:', alpha=1, markersize=8, label='Siqueira et al')\n",
    "plt.semilogx(N_time, time_new, 'b^--', alpha=1, markersize=8, label='Our method')\n",
    "#plt.axis('scaled')\n",
    "#plt.xlim(np.min(N_time)-1,np.max(N_time)+1)\n",
    "plt.ylim(np.min(time_new)-5,np.max(time_old)+10)\n",
    "plt.xticks(fontsize=14)\n",
    "plt.yticks(fontsize=14)\n",
    "plt.xlabel('Number of observations', fontsize=18)\n",
    "plt.ylabel('Runtime (s)', fontsize=18)\n",
    "plt.grid(True)\n",
    "plt.tight_layout(True)\n",
    "plt.legend(loc='upper left', fontsize=14)\n",
    "#plt.savefig('figures/time_comparison.png', dpi= 500)"
   ]
  },
  {
   "cell_type": "markdown",
   "metadata": {},
   "source": [
    "# Time VS Observation points - Up to 1 000 000"
   ]
  },
  {
   "cell_type": "markdown",
   "metadata": {},
   "source": [
    "### Calculate the time necessary to run the Equivalent Layer with BTTB method"
   ]
  },
  {
   "cell_type": "code",
   "execution_count": 3,
   "metadata": {},
   "outputs": [
    {
     "name": "stdout",
     "output_type": "stream",
     "text": [
      "(10, 10)\n",
      "(50, 50)\n",
      "(100, 100)\n",
      "(200, 200)\n",
      "(300, 300)\n",
      "(400, 400)\n",
      "(500, 500)\n",
      "(1000, 1000)\n",
      "(1500, 1500)\n",
      "(2000, 2000)\n",
      "(3000, 3000)\n",
      "(4000, 4000)\n",
      "(5000, 5000)\n"
     ]
    }
   ],
   "source": [
    "# Not necessary to run again, the obtained times are in the cell below\n",
    "\n",
    "time_new_n = []\n",
    "N_time_n = []\n",
    "shape_n = [(10,10),(50, 50),(100, 100),(200, 200),(300, 300),(400, 400),(500, 500),(1000, 1000),(1500,1500),\n",
    "           (2000, 2000),(3000, 3000),(4000,4000),(5000,5000)]\n",
    "#shape_n = [(3000, 3000),(4000,4000),(5000,5000)]\n",
    "for i in range(len(shape_n)):\n",
    "    print(shape_n[i])\n",
    "    # Create a regular grid at 0m height\n",
    "    area = [-5000, 5000, -4000, 4000]\n",
    "    xi, yi, zi = gridder.regular(area, shape_n[i], z=100.)\n",
    "    #delta_s  = (area[1]-area[0])/(shape[i][0]-1.)\n",
    "\n",
    "    # Vertical component of the gravitational atraction observed\n",
    "    dobs_prism = polyprism.gz(xi, yi, zi, model_prism)\n",
    "    dobs_sphere = sphere.gz(xi, yi, zi, model_sphere)\n",
    "    dobs = dobs_sphere + dobs_prism\n",
    "    dobs = utils.contaminate(dobs, 0.005, seed=0, percent=True)\n",
    "\n",
    "    zj = np.ones_like(zi)*300\n",
    "\n",
    "    itmax = 50\n",
    "    s = time()\n",
    "    rho_c, gzp_bccb = fc.fast_eq_bccb(xi,yi,zi,zj,shape_n[i],dobs,itmax)\n",
    "    e = time()\n",
    "    tcpu_n = e - s\n",
    "    time_new_n.append(tcpu_n)\n",
    "    n_shape_n = shape_n[i][0]*shape_n[i][1]\n",
    "    N_time_n.append(n_shape_n)"
   ]
  },
  {
   "cell_type": "code",
   "execution_count": 4,
   "metadata": {},
   "outputs": [],
   "source": [
    "runtime_1M = dict()\n",
    "runtime_1M['bttb'] = time_new_n\n",
    "runtime_1M['N'] = N_time_n"
   ]
  },
  {
   "cell_type": "code",
   "execution_count": 5,
   "metadata": {},
   "outputs": [],
   "source": [
    "#save the data\n",
    "file_name = 'runtime_1M.pickle'\n",
    "with open(file_name, 'w') as f:\n",
    "    pickle.dump(runtime_1M, f)"
   ]
  },
  {
   "cell_type": "code",
   "execution_count": 6,
   "metadata": {},
   "outputs": [],
   "source": [
    "N_time_n = []\n",
    "shape_n = [(10,10),(50, 50),(100, 100),(200, 200),(300, 300),(400, 400),(500, 500),(1000, 1000),(1500,1500),\n",
    "           (2000, 2000),(3000, 3000),(4000,4000),(5000,5000)]\n",
    "\n",
    "for i in range(len(shape_n)):\n",
    "    n_shape_n = shape_n[i][0]*shape_n[i][1]\n",
    "    N_time_n.append(n_shape_n)\n",
    "\n",
    "time_new_n = [0.011346499999945081, 0.03879659999984142, 0.16005670000004102, 0.9840718999998899, 2.340917100000297,\n",
    " 4.261215499999707, 6.775052399999822, 30.897041499999887, 72.77239119999967, 132.99228019999964, 315.26829009999983,\n",
    " 602.1513648999999, 915.180926500000]"
   ]
  },
  {
   "cell_type": "code",
   "execution_count": 7,
   "metadata": {},
   "outputs": [
    {
     "data": {
      "image/png": "[encoded data removed]",
      "text/plain": [
       "<Figure size 720x432 with 1 Axes>"
      ]
     },
     "metadata": {
      "needs_background": "light"
     },
     "output_type": "display_data"
    }
   ],
   "source": [
    "plt.figure(figsize=(10,6))\n",
    "plt.semilogx(N_time_n, time_new_n, 'b^--', alpha=1, markersize=10, label='Our method')\n",
    "#plt.axis('scaled')\n",
    "#plt.xlim(np.min(N_time)-1,np.max(N_time)+1)\n",
    "plt.ylim(np.min(time_new_n)-5,np.max(time_new_n)+100)\n",
    "plt.xticks(fontsize=14)\n",
    "plt.yticks(fontsize=14)\n",
    "plt.xlabel('Number of observations', fontsize=18)\n",
    "plt.ylabel('Runtime (s)', fontsize=18)\n",
    "plt.grid(True)\n",
    "plt.legend(loc='upper left', fontsize=14,)\n",
    "plt.tight_layout(True)\n",
    "#plt.savefig('figures/time_bccb.png', dpi= 500)"
   ]
  },
  {
   "cell_type": "code",
   "execution_count": null,
   "metadata": {},
   "outputs": [],
   "source": []
  }
 ],
 "metadata": {
  "anaconda-cloud": {},
  "kernelspec": {
   "display_name": "Python 2",
   "language": "python",
   "name": "python2"
  },
  "language_info": {
   "codemirror_mode": {
    "name": "ipython",
    "version": 2
   },
   "file_extension": ".py",
   "mimetype": "text/x-python",
   "name": "python",
   "nbconvert_exporter": "python",
   "pygments_lexer": "ipython2",
   "version": "2.7.17"
  }
 },
 "nbformat": 4,
 "nbformat_minor": 1
}
