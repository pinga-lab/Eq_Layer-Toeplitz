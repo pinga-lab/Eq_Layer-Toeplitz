{
 "cells": [
  {
   "cell_type": "markdown",
   "metadata": {},
   "source": [
    "## Import"
   ]
  },
  {
   "cell_type": "code",
   "execution_count": 1,
   "metadata": {},
   "outputs": [
    {
     "name": "stderr",
     "output_type": "stream",
     "text": [
      "/home/vanderlei/Documents/fatiando/fatiando/vis/mpl.py:70: UserWarning: This module will be removed in v0.6. We recommend the use of matplotlib.pyplot module directly. Some of the fatiando specific functions will remain.\n",
      "  \"specific functions will remain.\")\n"
     ]
    }
   ],
   "source": [
    "import numpy as np\n",
    "import functions as fc\n",
    "from timeit import default_timer as time\n",
    "from fatiando.gravmag import polyprism\n",
    "from fatiando import mesher, gridder\n",
    "from fatiando.gravmag import prism\n",
    "from fatiando.constants import G, SI2MGAL\n",
    "from scipy.sparse import diags\n",
    "\n",
    "from matplotlib import pyplot as plt\n",
    "import matplotlib.cm as cm\n",
    "from mpl_toolkits.basemap import Basemap\n",
    "from mpl_toolkits.axes_grid1.inset_locator import inset_axes\n",
    "\n",
    "from scipy.interpolate import griddata\n",
    "from scipy import interpolate, signal\n",
    "from fatiando.vis import mpl\n",
    "import cPickle as pickle\n",
    "#%matplotlib inline"
   ]
  },
  {
   "cell_type": "code",
   "execution_count": 2,
   "metadata": {},
   "outputs": [],
   "source": [
    "def plot_rec(bmap, lower_left, upper_left, lower_right, upper_right):\n",
    "    xs = [lower_left[0], upper_left[0],\n",
    "          lower_right[0], upper_right[0],\n",
    "          lower_left[0], lower_right[0],\n",
    "          upper_left[0], upper_right[0]]\n",
    "    ys = [lower_left[1], upper_left[1],\n",
    "          lower_right[1], upper_right[1],\n",
    "          lower_left[1], lower_right[1],\n",
    "          upper_left[1], upper_right[1]]\n",
    "    bmap.plot(xs, ys, latlon = True, color='red')"
   ]
  },
  {
   "cell_type": "markdown",
   "metadata": {},
   "source": [
    "## Observed Grid and Data"
   ]
  },
  {
   "cell_type": "code",
   "execution_count": 3,
   "metadata": {},
   "outputs": [],
   "source": [
    "with open('carajas_gz.pickle') as r:\n",
    "    carajas = pickle.load(r)"
   ]
  },
  {
   "cell_type": "code",
   "execution_count": 4,
   "metadata": {},
   "outputs": [],
   "source": [
    "grid_x = carajas['x']\n",
    "grid_y = carajas['y']\n",
    "grid_z = carajas['z']\n",
    "grid_dobs = carajas['gz']"
   ]
  },
  {
   "cell_type": "code",
   "execution_count": 5,
   "metadata": {},
   "outputs": [
    {
     "name": "stdout",
     "output_type": "stream",
     "text": [
      "-88.25 2.35\n"
     ]
    }
   ],
   "source": [
    "gz_max = np.max(grid_dobs)\n",
    "gz_min = np.min(grid_dobs)\n",
    "\n",
    "print gz_min, gz_max"
   ]
  },
  {
   "cell_type": "code",
   "execution_count": 6,
   "metadata": {},
   "outputs": [
    {
     "name": "stdout",
     "output_type": "stream",
     "text": [
      "[-90. -84. -78. -72. -66. -60. -54. -48. -42. -36. -30. -24. -18. -12.\n",
      "  -6.   0.   6.]\n"
     ]
    }
   ],
   "source": [
    "gz_colorbar_ranges = np.arange(-90., 6.1, 6)\n",
    "\n",
    "print gz_colorbar_ranges"
   ]
  },
  {
   "cell_type": "code",
   "execution_count": 14,
   "metadata": {},
   "outputs": [],
   "source": [
    "shape = (500, 500)"
   ]
  },
  {
   "cell_type": "code",
   "execution_count": 46,
   "metadata": {},
   "outputs": [
    {
     "data": {
      "image/png": "[encoded data removed]",
      "text/plain": [
       "<Figure size 311.76x233.82 with 3 Axes>"
      ]
     },
     "metadata": {
      "needs_background": "light"
     },
     "output_type": "display_data"
    }
   ],
   "source": [
    "font_title = 10\n",
    "font_ticks = 8\n",
    "font_labels = 10\n",
    "\n",
    "height=6.\n",
    "width = 8.\n",
    "height_per_width = height/width\n",
    "#plt.figure(figsize=(8,6))\n",
    "plt.figure(figsize=(4.33,4.33*height_per_width))\n",
    "\n",
    "#plt.plot()\n",
    "ax=plt.subplot(1,1,1)\n",
    "# plt.tricontourf(np.ravel(grid_y),np.ravel(grid_x),np.ravel(grid_dobs),\n",
    "#                 levels=gz_colorbar_ranges, cmap='jet',\n",
    "#                 vmin = -90, vmax = 6)\n",
    "plt.contourf(grid_y.reshape(shape),grid_x.reshape(shape),grid_dobs.reshape(shape),\n",
    "             levels=gz_colorbar_ranges, cmap='jet',\n",
    "             vmin = -90, vmax = 6)\n",
    "\n",
    "#define colorbar\n",
    "cbar = plt.cm.ScalarMappable(cmap=cm.jet)\n",
    "cbar.set_array(np.ravel(grid_dobs))\n",
    "cbar.set_clim(-90, 6)\n",
    "cb = plt.colorbar(cbar, shrink=1, boundaries=gz_colorbar_ranges)\n",
    "cb.set_label('Gravity data (mGal)', rotation=90, fontsize=font_labels)\n",
    "cb.ax.tick_params(labelsize=font_ticks)\n",
    "\n",
    "plt.xlim(np.min(grid_y),np.max(grid_y))\n",
    "plt.ylim(np.min(grid_x),np.max(grid_x))\n",
    "plt.xticks(fontsize=font_ticks)\n",
    "plt.yticks(fontsize=font_ticks)\n",
    "plt.xlabel('Easting coordinate y (km)', fontsize=font_labels)\n",
    "plt.ylabel('Northing coordinate x (m)', fontsize=font_labels)\n",
    "mpl.m2km()\n",
    "plt.tight_layout(True)\n",
    "\n",
    "# plot the inset\n",
    "#inset = inset_axes(ax, width=\"40%\", height=\"40%\", loc=3, bbox_to_anchor=(65,44,350,350))\n",
    "inset = inset_axes(ax, width=\"30%\", height=\"30%\", loc=3)\n",
    "m = Basemap(projection='merc',llcrnrlat=-40,urcrnrlat=10,\\\n",
    "            llcrnrlon=-82,urcrnrlon=-29,lat_ts=20,resolution='c')\n",
    "m.drawcoastlines(zorder=1)\n",
    "m.fillcontinents(color='white',lake_color='aqua')\n",
    "llcrnrlon = -53\n",
    "urcrnrlon =  -49\n",
    "llcrnrlat =  -8\n",
    "urcrnrlat =  -5\n",
    "lower_left = (llcrnrlon, llcrnrlat)\n",
    "lower_right= (urcrnrlon, llcrnrlat)\n",
    "upper_left = (llcrnrlon, urcrnrlat)\n",
    "upper_right= (urcrnrlon, urcrnrlat)\n",
    "plot_rec(m, lower_left, upper_left, lower_right, upper_right, )\n",
    "\n",
    "m.drawmapboundary(fill_color='lightblue')\n",
    "m.drawcountries(linewidth=0.6, linestyle='solid', color='k' )\n",
    "\n",
    "#plt.savefig('../manuscript/Fig/carajas_real_data.png', dpi=300)\n",
    "plt.savefig('../manuscript/Fig/Figure9.png', dpi=1200)\n",
    "\n",
    "plt.show()"
   ]
  },
  {
   "cell_type": "markdown",
   "metadata": {},
   "source": [
    "## Equivalent layer Depth"
   ]
  },
  {
   "cell_type": "code",
   "execution_count": 17,
   "metadata": {},
   "outputs": [],
   "source": [
    "# Equivalent Layer depth\n",
    "shape_m = (500, 500)\n",
    "zj = np.ones_like(grid_z)*300"
   ]
  },
  {
   "cell_type": "markdown",
   "metadata": {},
   "source": [
    "## Fast Eq. Layer Combined with Circulant-Toeplitz (BCCB)"
   ]
  },
  {
   "cell_type": "code",
   "execution_count": 18,
   "metadata": {},
   "outputs": [
    {
     "name": "stdout",
     "output_type": "stream",
     "text": [
      "1.16217398643\n"
     ]
    }
   ],
   "source": [
    "# Predicted data\n",
    "s = time()\n",
    "itmax = 50\n",
    "rho_toep, gzp_toep = fc.fast_eq_bccb(np.ravel(grid_x),np.ravel(grid_y),np.ravel(grid_z),\n",
    "                                  np.ravel(zj),shape_m,np.ravel(grid_dobs),itmax)\n",
    "e = time()\n",
    "tcpu = e - s\n",
    "print tcpu"
   ]
  },
  {
   "cell_type": "code",
   "execution_count": 19,
   "metadata": {},
   "outputs": [],
   "source": [
    "delta_gz = gzp_toep-np.ravel(grid_dobs)"
   ]
  },
  {
   "cell_type": "markdown",
   "metadata": {},
   "source": [
    "## Property estimative plot"
   ]
  },
  {
   "cell_type": "raw",
   "metadata": {},
   "source": [
    "plt.figure(figsize=(6,6))\n",
    "\n",
    "plt.plot()\n",
    "plt.pcolormesh(grid_y.reshape(shape_m), grid_x.reshape(shape_m),rho_toep.reshape(shape_m))\n",
    "#plt.tricontourf(yi,xi,rho_toep,30,cmap='jet')\n",
    "cb = plt.colorbar()\n",
    "#plt.axis('scaled')\n",
    "cb.set_label('$density$ ( $kg.m^{-3}$ )', rotation=90, fontsize=14)\n",
    "plt.xlim(np.min(grid_y),np.max(grid_y))\n",
    "plt.ylim(np.min(grid_x),np.max(grid_x))\n",
    "plt.xticks(fontsize=12)\n",
    "plt.yticks(fontsize=12)\n",
    "plt.xlabel('Easting coordinate y (km)', fontsize=12)\n",
    "plt.ylabel('Northing coordinate x (m)', fontsize=12)\n",
    "mpl.m2km()\n",
    "plt.tight_layout(True)\n",
    "#plt.savefig('figures/rho_carajas_500x500.png', dpi=300)\n",
    "plt.show()"
   ]
  },
  {
   "cell_type": "markdown",
   "metadata": {},
   "source": [
    "## Data, Predicted data and Residuals plot"
   ]
  },
  {
   "cell_type": "markdown",
   "metadata": {},
   "source": [
    "## Fast Equivalent layer BCCB plot"
   ]
  },
  {
   "cell_type": "code",
   "execution_count": 20,
   "metadata": {
    "scrolled": true
   },
   "outputs": [
    {
     "name": "stdout",
     "output_type": "stream",
     "text": [
      "0.00029344162027741734\n",
      "0.1158238959637627\n"
     ]
    }
   ],
   "source": [
    "mean = np.mean(delta_gz)\n",
    "print mean\n",
    "std = np.std(delta_gz)\n",
    "print std"
   ]
  },
  {
   "cell_type": "code",
   "execution_count": 21,
   "metadata": {},
   "outputs": [
    {
     "name": "stdout",
     "output_type": "stream",
     "text": [
      "-1.8876473016330095 2.302509214867115\n"
     ]
    }
   ],
   "source": [
    "print np.min(delta_gz), np.max(delta_gz)"
   ]
  },
  {
   "cell_type": "code",
   "execution_count": 22,
   "metadata": {},
   "outputs": [],
   "source": [
    "res_colorbar_ranges = np.arange(-0.8, 0.81, 0.1)"
   ]
  },
  {
   "cell_type": "code",
   "execution_count": 23,
   "metadata": {},
   "outputs": [
    {
     "data": {
      "text/plain": [
       "array([-8.00000000e-01, -7.00000000e-01, -6.00000000e-01, -5.00000000e-01,\n",
       "       -4.00000000e-01, -3.00000000e-01, -2.00000000e-01, -1.00000000e-01,\n",
       "       -2.22044605e-16,  1.00000000e-01,  2.00000000e-01,  3.00000000e-01,\n",
       "        4.00000000e-01,  5.00000000e-01,  6.00000000e-01,  7.00000000e-01,\n",
       "        8.00000000e-01])"
      ]
     },
     "execution_count": 23,
     "metadata": {},
     "output_type": "execute_result"
    }
   ],
   "source": [
    "res_colorbar_ranges"
   ]
  },
  {
   "cell_type": "code",
   "execution_count": 41,
   "metadata": {},
   "outputs": [
    {
     "data": {
      "image/png": "[encoded data removed]",
      "text/plain": [
       "<Figure size 311.76x467.64 with 4 Axes>"
      ]
     },
     "metadata": {
      "needs_background": "light"
     },
     "output_type": "display_data"
    }
   ],
   "source": [
    "# plot of the vertical component of the gravitational atraction at z=0 \n",
    "font_title = 10\n",
    "font_ticks = 8\n",
    "font_labels = 10\n",
    "\n",
    "height=12.\n",
    "width = 8.\n",
    "height_per_width = height/width\n",
    "#plt.figure(figsize=(7,10))\n",
    "plt.figure(figsize=(4.33,4.33*height_per_width))\n",
    "\n",
    "#plt.subplot(311)\n",
    "#plt.title('A)', y=0.91, x=0.1, fontsize=18)\n",
    "#plt.tricontourf(np.ravel(grid_y),np.ravel(grid_x),np.ravel(grid_dobs),15,cmap='jet')\n",
    "#cb = plt.colorbar()\n",
    "##plt.axis('scaled')\n",
    "#cb.set_label('$Gz$ ( $mGal$ )', rotation=90, fontsize=14)\n",
    "#plt.xlim(np.min(yi_c),np.max(yi_c))\n",
    "#plt.ylim(np.min(xi_c),np.max(xi_c))\n",
    "#plt.xticks(fontsize=14)\n",
    "#plt.yticks(fontsize=14)\n",
    "#plt.xlabel('Easting coordinate y (km)', fontsize=12)\n",
    "#plt.ylabel('Northing coordinate x (m)', fontsize=12)\n",
    "#mpl.m2km()\n",
    "\n",
    "plt.subplot(211)\n",
    "plt.title('(a)', y=0.93, x=-0.20, fontsize=font_title)\n",
    "# plt.tricontourf(np.ravel(grid_y),np.ravel(grid_x),gzp_toep,\n",
    "#                 levels=gz_colorbar_ranges, cmap='jet', \n",
    "#                 vmin = -90, vmax = 6)\n",
    "plt.contourf(grid_y.reshape(shape),grid_x.reshape(shape),gzp_toep.reshape(shape),\n",
    "             levels=gz_colorbar_ranges, cmap='jet', \n",
    "             vmin = -90, vmax = 6)\n",
    "\n",
    "#define colorbar\n",
    "cbar = plt.cm.ScalarMappable(cmap=cm.jet)\n",
    "cbar.set_array(gzp_toep)\n",
    "cbar.set_clim(-90, 6)\n",
    "cb = plt.colorbar(cbar, shrink=1, boundaries=gz_colorbar_ranges)\n",
    "cb.set_label('Gravity data (mGal)', rotation=90, fontsize=font_labels)\n",
    "cb.ax.tick_params(labelsize=font_ticks)\n",
    "\n",
    "#plt.xlim(np.min(grid_y),np.max(grid_y))\n",
    "#plt.ylim(np.min(grid_x),np.max(grid_x))\n",
    "plt.xticks(fontsize=font_ticks)\n",
    "plt.yticks(fontsize=font_ticks)\n",
    "#plt.xlabel('Easting coordinate y (km)', fontsize=14)\n",
    "plt.ylabel('Northing coordinate x (m)', fontsize=font_labels)\n",
    "mpl.m2km()\n",
    "\n",
    "plt.subplot(212)\n",
    "plt.title('(b)', y=0.93, x=-0.20, fontsize=font_title)\n",
    "# plt.tricontourf(np.ravel(grid_y),np.ravel(grid_x),delta_gz,\n",
    "#                 levels=res_colorbar_ranges, vmin=-0.8, vmax=.8, cmap='jet')\n",
    "plt.contourf(grid_y.reshape(shape),grid_x.reshape(shape),delta_gz.reshape(shape),\n",
    "             levels=res_colorbar_ranges, vmin=-0.6, vmax=0.6, cmap='jet')\n",
    "\n",
    "#define colorbar\n",
    "cbar = plt.cm.ScalarMappable(cmap=cm.jet)\n",
    "cbar.set_array(delta_gz)\n",
    "cbar.set_clim(-0.6, 0.6)\n",
    "cb = plt.colorbar(cbar, shrink=1, boundaries=res_colorbar_ranges, extend='both')\n",
    "cb.set_label('Residuals (mGal)', rotation=90, fontsize=font_labels)\n",
    "cb.ax.tick_params(labelsize=font_ticks)\n",
    "\n",
    "#plt.xlim(np.min(grid_y),np.max(grid_y))\n",
    "#plt.ylim(np.min(grid_x),np.max(grid_x))\n",
    "plt.xticks(fontsize=font_ticks)\n",
    "plt.yticks(fontsize=font_ticks)\n",
    "plt.xlabel('Easting coordinate y (km)', fontsize=font_labels)\n",
    "plt.ylabel('Northing coordinate x (m)', fontsize=font_labels)\n",
    "mpl.m2km()\n",
    "plt.tight_layout(True)\n",
    "#plt.savefig('../manuscript/Fig/Carajas_gz_predito.png', dpi=300)\n",
    "plt.savefig('../manuscript/Fig/Figure10.png', dpi=1200)"
   ]
  },
  {
   "cell_type": "markdown",
   "metadata": {},
   "source": [
    "## Transformation - Upward Continuation"
   ]
  },
  {
   "cell_type": "code",
   "execution_count": 42,
   "metadata": {},
   "outputs": [
    {
     "name": "stdout",
     "output_type": "stream",
     "text": [
      "0.0764899253845\n"
     ]
    }
   ],
   "source": [
    "# BTTb Eq. Layer Transformation\n",
    "N = shape_m[0]*shape_m[1]\n",
    "z_up = np.zeros_like(grid_x)-5000\n",
    "s = time()\n",
    "BTTB_up = fc.bttb(np.ravel(grid_x),np.ravel(grid_y),np.ravel(z_up),np.ravel(zj))\n",
    "cev_up = fc.bccb(shape_m,N,BTTB_up)\n",
    "gzp_bccb_up = fc.fast_forward_bccb(shape_m,N,rho_toep,cev_up)\n",
    "e = time()\n",
    "tcpu = e - s\n",
    "print tcpu"
   ]
  },
  {
   "cell_type": "code",
   "execution_count": 45,
   "metadata": {},
   "outputs": [
    {
     "data": {
      "image/png": "[encoded data removed]",
      "text/plain": [
       "<Figure size 311.76x233.82 with 2 Axes>"
      ]
     },
     "metadata": {
      "needs_background": "light"
     },
     "output_type": "display_data"
    }
   ],
   "source": [
    "# plot of the vertical component of the gravitational atraction at z=0 \n",
    "font_title = 10\n",
    "font_ticks = 8\n",
    "font_labels = 10\n",
    "\n",
    "height=6.\n",
    "width = 8.\n",
    "height_per_width = height/width\n",
    "#plt.figure(figsize=(8,6))\n",
    "plt.figure(figsize=(4.33,4.33*height_per_width))\n",
    "\n",
    "# plt.tricontourf(np.ravel(grid_y),np.ravel(grid_x),gzp_bccb_up,\n",
    "#                 30, cmap='jet', vmin = -90, vmax = 6)\n",
    "plt.contourf(grid_y.reshape(shape),grid_x.reshape(shape),gzp_bccb_up.reshape(shape),\n",
    "             30, cmap='jet', vmin = -90, vmax = 6)\n",
    "\n",
    "#define colorbar\n",
    "cbar = plt.cm.ScalarMappable(cmap=cm.jet)\n",
    "cbar.set_array(gzp_bccb_up)\n",
    "cbar.set_clim(-90, 6)\n",
    "cb = plt.colorbar(cbar, shrink=1, boundaries=gz_colorbar_ranges)\n",
    "cb.set_label('Gravity data (mGal)', rotation=90, fontsize=font_labels)\n",
    "cb.ax.tick_params(labelsize=font_ticks)\n",
    "\n",
    "plt.xlim(np.min(grid_y),np.max(grid_y))\n",
    "plt.ylim(np.min(grid_x),np.max(grid_x))\n",
    "plt.xticks(fontsize=font_ticks)\n",
    "plt.yticks(fontsize=font_ticks)\n",
    "plt.xlabel('Easting coordinate y (km)', fontsize=font_labels)\n",
    "plt.ylabel('Northing coordinate x (m)', fontsize=font_labels)\n",
    "mpl.m2km()\n",
    "plt.tight_layout(True)\n",
    "#plt.savefig('../manuscript/Fig/up5000_carajas_500x500.png', dpi=300)\n",
    "plt.savefig('../manuscript/Fig/Figure11.png', dpi=1200)\n",
    "plt.show()"
   ]
  },
  {
   "cell_type": "markdown",
   "metadata": {},
   "source": [
    "## Transformation - Downward Continuation"
   ]
  },
  {
   "cell_type": "raw",
   "metadata": {},
   "source": [
    "# BTTb Eq. Layer Transformation\n",
    "N = shape_m[0]*shape_m[1]\n",
    "z_down = np.zeros_like(grid_x)-500\n",
    "BTTB_down = fc.bttb(np.ravel(grid_x),np.ravel(grid_y),np.ravel(z_down),np.ravel(zj))\n",
    "cev_down = fc.bccb(shape_m,N,BTTB_down)\n",
    "gzp_bccb_down = fc.fast_forward_bccb(shape_m,N,rho_toep,cev_down)"
   ]
  },
  {
   "cell_type": "raw",
   "metadata": {},
   "source": [
    "# plot of the vertical component of the gravitational atraction at z=0 \n",
    "plt.figure(figsize=(6,6))\n",
    "\n",
    "plt.tricontourf(np.ravel(grid_y),np.ravel(grid_x),gzp_bccb_down,30,cmap='jet')\n",
    "cb = plt.colorbar(shrink=0.8)\n",
    "plt.axis('scaled')\n",
    "cb.set_label('$Gz$ ( $mGal$ )', rotation=90, fontsize=14)\n",
    "plt.xlim(np.min(yi_c),np.max(yi_c))\n",
    "plt.ylim(np.min(xi_c),np.max(xi_c))\n",
    "plt.xticks(fontsize=12)\n",
    "plt.yticks(fontsize=12)\n",
    "plt.xlabel('Easting coordinate y (km)', fontsize=12)\n",
    "plt.ylabel('Northing coordinate x (m)', fontsize=12)\n",
    "mpl.m2km()\n",
    "plt.tight_layout(True)\n",
    "#plt.savefig('figures/down500_carajas_500x500.jpg', dpi=300)\n",
    "plt.show()"
   ]
  },
  {
   "cell_type": "markdown",
   "metadata": {},
   "source": [
    "## Transformation - Gzz"
   ]
  },
  {
   "cell_type": "raw",
   "metadata": {},
   "source": [
    "# BTTb Eq. Layer Transformation\n",
    "w_gzz = fc.bttb_gzz(np.ravel(grid_x),np.ravel(grid_y),np.ravel(grid_z),np.ravel(zj))\n",
    "gzz = fc.fast_forward_bccb(shape_m,shape_m[0]*shape_m[1],rho_toep,w_gzz)"
   ]
  },
  {
   "cell_type": "raw",
   "metadata": {},
   "source": [
    "# plot of the vertical component of the gravitational atraction at z=0 \n",
    "plt.figure(figsize=(6,6))\n",
    "\n",
    "plt.tricontourf(np.ravel(grid_y),np.ravel(grid_x),gzz,30,cmap='jet')\n",
    "cb = plt.colorbar(shrink=0.8)\n",
    "plt.axis('scaled')\n",
    "cb.set_label('$Gzz$ ( $eotvos$ )', rotation=90, fontsize=14)\n",
    "plt.xlim(np.min(yi_c),np.max(yi_c))\n",
    "plt.ylim(np.min(xi_c),np.max(xi_c))\n",
    "plt.xticks(fontsize=12)\n",
    "plt.yticks(fontsize=12)\n",
    "plt.xlabel('Horizontal coordinate y (m)', fontsize=12)\n",
    "plt.ylabel('Horizontal coordinate x (m)', fontsize=12)\n",
    "#plt.savefig('figures/gzz_carajas_1005x131.jpg', dpi=300)\n",
    "plt.show()"
   ]
  },
  {
   "cell_type": "markdown",
   "metadata": {
    "collapsed": true
   },
   "source": [
    "## Junk Tests"
   ]
  },
  {
   "cell_type": "raw",
   "metadata": {},
   "source": [
    "data_right = np.zeros_like(data)\n",
    "for i in range (shape[1]):\n",
    "    line = data[i*300:(i+1)*300,:]\n",
    "    if line[i+1,1] < line[i,1]:\n",
    "        line_reverse = line[::-1]\n",
    "        data_right[i*300:(i+1)*300,:] = line_reverse\n",
    "    else:\n",
    "        data_right[i*300:(i+1)*300,:] = line"
   ]
  }
 ],
 "metadata": {
  "anaconda-cloud": {},
  "kernelspec": {
   "display_name": "Python 2",
   "language": "python",
   "name": "python2"
  },
  "language_info": {
   "codemirror_mode": {
    "name": "ipython",
    "version": 2
   },
   "file_extension": ".py",
   "mimetype": "text/x-python",
   "name": "python",
   "nbconvert_exporter": "python",
   "pygments_lexer": "ipython2",
   "version": "2.7.17"
  }
 },
 "nbformat": 4,
 "nbformat_minor": 1
}
