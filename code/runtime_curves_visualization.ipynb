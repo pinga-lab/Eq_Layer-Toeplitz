{
 "cells": [
  {
   "cell_type": "code",
   "execution_count": 1,
   "metadata": {},
   "outputs": [],
   "source": [
    "import numpy as np\n",
    "from matplotlib import pyplot as plt\n",
    "import cPickle as pickle"
   ]
  },
  {
   "cell_type": "markdown",
   "metadata": {},
   "source": [
    "## Load the data"
   ]
  },
  {
   "cell_type": "code",
   "execution_count": 2,
   "metadata": {},
   "outputs": [],
   "source": [
    "with open('runtime_1M.pickle') as r:\n",
    "    runtime_1M = pickle.load(r)"
   ]
  },
  {
   "cell_type": "code",
   "execution_count": 3,
   "metadata": {},
   "outputs": [],
   "source": [
    "with open('runtime_22500.pickle') as r:\n",
    "    runtime_22500 = pickle.load(r)"
   ]
  },
  {
   "cell_type": "code",
   "execution_count": 4,
   "metadata": {},
   "outputs": [
    {
     "data": {
      "text/plain": [
       "{'N': [100,\n",
       "  2500,\n",
       "  10000,\n",
       "  40000,\n",
       "  90000,\n",
       "  160000,\n",
       "  250000,\n",
       "  1000000,\n",
       "  2250000,\n",
       "  4000000,\n",
       "  9000000,\n",
       "  16000000,\n",
       "  25000000],\n",
       " 'bttb': [0.20300793647766113,\n",
       "  0.2402639389038086,\n",
       "  0.06320691108703613,\n",
       "  0.1974949836730957,\n",
       "  0.4391958713531494,\n",
       "  0.6951401233673096,\n",
       "  1.0400440692901611,\n",
       "  4.287153959274292,\n",
       "  9.353788137435913,\n",
       "  16.693243980407715,\n",
       "  41.23505711555481,\n",
       "  79.56992793083191,\n",
       "  518.6884679794312]}"
      ]
     },
     "execution_count": 4,
     "metadata": {},
     "output_type": "execute_result"
    }
   ],
   "source": [
    "runtime_1M"
   ]
  },
  {
   "cell_type": "code",
   "execution_count": 5,
   "metadata": {},
   "outputs": [
    {
     "data": {
      "text/plain": [
       "{'N': [100, 400, 900, 1600, 2500, 3600, 4900, 6400, 8100, 10000, 22500],\n",
       " 'bttb': [12.241159915924072,\n",
       "  3.177375078201294,\n",
       "  1.0089571475982666,\n",
       "  0.14032983779907227,\n",
       "  0.33670806884765625,\n",
       "  0.44214797019958496,\n",
       "  0.5060069561004639,\n",
       "  0.19723892211914062,\n",
       "  0.20693302154541016,\n",
       "  0.3847310543060303,\n",
       "  0.11551904678344727],\n",
       " 'fast_eql': [0.1241159439086914,\n",
       "  0.3237769603729248,\n",
       "  0.10456395149230957,\n",
       "  0.3240950107574463,\n",
       "  0.7257919311523438,\n",
       "  1.4221899509429932,\n",
       "  2.5570859909057617,\n",
       "  4.2890989780426025,\n",
       "  6.863901138305664,\n",
       "  10.39963984489441,\n",
       "  343.1119611263275]}"
      ]
     },
     "execution_count": 5,
     "metadata": {},
     "output_type": "execute_result"
    }
   ],
   "source": [
    "runtime_22500"
   ]
  },
  {
   "cell_type": "markdown",
   "metadata": {
    "collapsed": true
   },
   "source": [
    "## Plot the results up to N = 22 500"
   ]
  },
  {
   "cell_type": "code",
   "execution_count": 17,
   "metadata": {},
   "outputs": [
    {
     "data": {
      "image/png": "[encoded data removed]",
      "text/plain": [
       "<Figure size 311.76x187.056 with 1 Axes>"
      ]
     },
     "metadata": {
      "needs_background": "light"
     },
     "output_type": "display_data"
    }
   ],
   "source": [
    "font_title = 8\n",
    "font_lables = 8\n",
    "font_ticks = 6\n",
    "\n",
    "height= 6.\n",
    "width = 10.\n",
    "height_per_width = height/width\n",
    "#plt.figure(figsize=(6,16))\n",
    "plt.figure(figsize=(4.33,4.33*height_per_width))\n",
    "\n",
    "plt.semilogx(runtime_22500['N'], runtime_22500['fast_eql'], 'ko:', \n",
    "             alpha=1, markersize=6, label='Siqueira et al')\n",
    "plt.semilogx(runtime_22500['N'], runtime_22500['bttb'], 'b^--', \n",
    "             alpha=1, markersize=6, label='Our method')\n",
    "#plt.axis('scaled')\n",
    "#plt.xlim(np.min(N_time)-1,np.max(N_time)+1)\n",
    "plt.ylim(np.min(runtime_22500['bttb'])-5,np.max(runtime_22500['fast_eql'])+10)\n",
    "plt.xticks(fontsize=font_ticks)\n",
    "plt.yticks(fontsize=font_ticks)\n",
    "plt.xlabel('Number of observations', fontsize=font_lables)\n",
    "plt.ylabel('Runtime (s)', fontsize=font_lables)\n",
    "plt.grid(True)\n",
    "plt.tight_layout(True)\n",
    "plt.legend(loc='upper left', fontsize=font_lables)\n",
    "plt.savefig('../manuscript/Fig/Figure3.png', dpi=1200)\n",
    "plt.show()"
   ]
  },
  {
   "cell_type": "markdown",
   "metadata": {},
   "source": [
    "## Plot the results up to N = 1 000 000"
   ]
  },
  {
   "cell_type": "code",
   "execution_count": 18,
   "metadata": {},
   "outputs": [
    {
     "data": {
      "image/png": "[encoded data removed]",
      "text/plain": [
       "<Figure size 311.76x187.056 with 1 Axes>"
      ]
     },
     "metadata": {
      "needs_background": "light"
     },
     "output_type": "display_data"
    }
   ],
   "source": [
    "font_title = 8\n",
    "font_lables = 8\n",
    "font_ticks = 6\n",
    "\n",
    "height= 6.\n",
    "width = 10.\n",
    "height_per_width = height/width\n",
    "#plt.figure(figsize=(6,16))\n",
    "plt.figure(figsize=(4.33,4.33*height_per_width))\n",
    "\n",
    "plt.semilogx(runtime_1M['N'], runtime_1M['bttb'], 'b^--', alpha=1, markersize=6, label='Our method')\n",
    "#plt.axis('scaled')\n",
    "#plt.xlim(np.min(N_time)-1,np.max(N_time)+1)\n",
    "plt.ylim(np.min(runtime_1M['bttb'])-5,np.max(runtime_1M['bttb'])+100)\n",
    "plt.xticks(fontsize=font_ticks)\n",
    "plt.yticks(fontsize=font_ticks)\n",
    "plt.xlabel('Number of observations', fontsize=font_lables)\n",
    "plt.ylabel('Runtime (s)', fontsize=font_lables)\n",
    "plt.grid(True)\n",
    "plt.legend(loc='upper left', fontsize=font_lables)\n",
    "plt.tight_layout(True)\n",
    "#plt.savefig('figures/time_bccb.png', dpi= 500)\n",
    "plt.savefig('../manuscript/Fig/Figure4.png', dpi=1200)\n",
    "plt.show()"
   ]
  },
  {
   "cell_type": "code",
   "execution_count": null,
   "metadata": {},
   "outputs": [],
   "source": []
  }
 ],
 "metadata": {
  "anaconda-cloud": {},
  "kernelspec": {
   "display_name": "Python 2",
   "language": "python",
   "name": "python2"
  },
  "language_info": {
   "codemirror_mode": {
    "name": "ipython",
    "version": 2
   },
   "file_extension": ".py",
   "mimetype": "text/x-python",
   "name": "python",
   "nbconvert_exporter": "python",
   "pygments_lexer": "ipython2",
   "version": "2.7.17"
  }
 },
 "nbformat": 4,
 "nbformat_minor": 1
}
