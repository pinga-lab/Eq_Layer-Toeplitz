{
 "cells": [
  {
   "cell_type": "markdown",
   "metadata": {},
   "source": [
    "# Import"
   ]
  },
  {
   "cell_type": "code",
   "execution_count": 1,
   "metadata": {
    "collapsed": false
   },
   "outputs": [],
   "source": [
    "import numpy as np\n",
    "from fatiando import mesher, gridder, utils\n",
    "from scipy.linalg import toeplitz\n",
    "from sys import getsizeof\n",
    "from timeit import default_timer as time\n",
    "%matplotlib inline"
   ]
  },
  {
   "cell_type": "markdown",
   "metadata": {},
   "source": [
    "# Observation and Equivalent layer grids"
   ]
  },
  {
   "cell_type": "code",
   "execution_count": 2,
   "metadata": {
    "collapsed": true
   },
   "outputs": [],
   "source": [
    "# Create a regular grid at 0m height\n",
    "#area = [1, 4, 1, 3]\n",
    "area = [0, 100, 0, 50]\n",
    "shape = (50, 50)\n",
    "xi, yi, zi = gridder.regular(area, shape, z=0.)\n",
    "\n",
    "# Equivalent Layer\n",
    "xj, yj, zj = gridder.regular(area, shape, z=80)\n",
    "\n",
    "# Create the true parameters vector\n",
    "N = shape[0]*shape[1]\n",
    "p_true = np.arange(0,N,1)\n",
    "p_true2 = p_true.reshape(N,1)"
   ]
  },
  {
   "cell_type": "markdown",
   "metadata": {},
   "source": [
    "# Classic Forward Problem Construction - MAG"
   ]
  },
  {
   "cell_type": "code",
   "execution_count": 4,
   "metadata": {
    "collapsed": true
   },
   "outputs": [],
   "source": [
    "# Magnetic Configuration\n",
    "inc0 = np.deg2rad(-30.)\n",
    "dec0 = np.deg2rad(40.)\n",
    "inc = np.deg2rad(15.)\n",
    "dec = np.deg2rad(59.)\n",
    "F = np.array([np.cos(inc0)*np.cos(dec0), np.cos(inc0)*np.sin(dec0), np.sin(inc0)])\n",
    "h = np.array([np.cos(inc)*np.cos(dec), np.cos(inc)*np.sin(dec), np.sin(inc)])"
   ]
  },
  {
   "cell_type": "code",
   "execution_count": 5,
   "metadata": {
    "collapsed": false
   },
   "outputs": [
    {
     "name": "stdout",
     "output_type": "stream",
     "text": [
      "0.9546041854\n",
      "47.6837158203\n"
     ]
    }
   ],
   "source": [
    "# Calculo da matriz de sensibilidade\n",
    "A = np.zeros((N, N), dtype=np.float)\n",
    "\n",
    "s = time()\n",
    "for i in xrange (N):\n",
    "    a = (xj-xi[i])\n",
    "    b = (yj-yi[i])\n",
    "    c = (zj-zi[i])\n",
    "    r = (a*a+b*b+c*c)\n",
    "    r3 = r**(-1.5)\n",
    "    r5 = r**(2.5)\n",
    "    Hxx = -r3+3*(a*a)/r5\n",
    "    Hxy = 3*(a*b)/r5\n",
    "    Hxz = 3*(a*c)/r5\n",
    "    Hyy = -r3+3*(b*b)/r5\n",
    "    Hyz = 3*(b*c)/r5\n",
    "    Hzz = -r3+3*(c*c)/r5\n",
    "    A[i] = ((F[0]*Hxx+F[1]*Hxy+F[2]*Hxz)*h[0] + (F[0]*Hxy+F[1]*Hyy+F[2]*Hyz)*h[1] + (F[0]*Hxz+F[1]*Hyz+F[2]*Hzz)*h[2])\n",
    "\n",
    "dobs_classic = A.dot(p_true2)\n",
    "\n",
    "e = time()\n",
    "tcpu = e - s\n",
    "print tcpu\n",
    "print A.nbytes/(1024.*1024.)"
   ]
  },
  {
   "cell_type": "markdown",
   "metadata": {},
   "source": [
    "# First Row to Toeplitz Blocks - Forward Model"
   ]
  },
  {
   "cell_type": "code",
   "execution_count": 10,
   "metadata": {
    "collapsed": false
   },
   "outputs": [
    {
     "name": "stdout",
     "output_type": "stream",
     "text": [
      "0.0203975679725\n",
      "0.0190734863281\n"
     ]
    }
   ],
   "source": [
    "s = time()\n",
    "\n",
    "dobs_bt = np.zeros(N).reshape(N,1)\n",
    "\n",
    "l = shape[1]\n",
    "\n",
    "for i in range (shape[1]):\n",
    "    k = 0 # index of the parameter's segment\n",
    "    j = i # index of the data's segment using the lower matrix\n",
    "    \n",
    "    a = (xj[shape[0]*(i):shape[0]*(i+1)]-xi[0])\n",
    "    b = (yj[shape[0]*(i):shape[0]*(i+1)]-yi[0])\n",
    "    c = (zj[shape[0]*(i):shape[0]*(i+1)]-zi[0])\n",
    "    r = (a*a+b*b+c*c)\n",
    "    r3 = r**(-1.5)\n",
    "    r5 = r**(2.5)\n",
    "    Hxx = -r3+3*(a*a)/r5\n",
    "    Hxy = 3*(a*b)/r5\n",
    "    Hxz = 3*(a*c)/r5\n",
    "    Hyy = -r3+3*(b*b)/r5\n",
    "    Hyz = 3*(b*c)/r5\n",
    "    Hzz = -r3+3*(c*c)/r5\n",
    "    W_bt_0 = ((F[0]*Hxx+F[1]*Hxy+F[2]*Hxz)*h[0] + (F[0]*Hxy+F[1]*Hyy+F[2]*Hyz)*h[1] + (F[0]*Hxz+F[1]*Hyz+F[2]*Hzz)*h[2])\n",
    "    \n",
    "    a = (xj[shape[0]*(i):shape[0]*(i+1)]-xi[shape[0]-1])\n",
    "    b = (yj[shape[0]*(i):shape[0]*(i+1)]-yi[shape[0]-1])\n",
    "    c = (zj[shape[0]*(i):shape[0]*(i+1)]-zi[shape[0]-1])\n",
    "    r = (a*a+b*b+c*c)\n",
    "    r3 = r**(-1.5)\n",
    "    r5 = r**(2.5)\n",
    "    Hxx = -r3+3*(a*a)/r5\n",
    "    Hxy = 3*(a*b)/r5\n",
    "    Hxz = 3*(a*c)/r5\n",
    "    Hyy = -r3+3*(b*b)/r5\n",
    "    Hyz = 3*(b*c)/r5\n",
    "    Hzz = -r3+3*(c*c)/r5\n",
    "    W_bt_1 = ((F[0]*Hxx+F[1]*Hxy+F[2]*Hxz)*h[0] + (F[0]*Hxy+F[1]*Hyy+F[2]*Hyz)*h[1] + (F[0]*Hxz+F[1]*Hyz+F[2]*Hzz)*h[2])\n",
    "    \n",
    "    a = (xj[shape[0]*(shape[0]-i-1):shape[0]*(shape[0]-i)]-xi[-shape[0]])\n",
    "    b = (yj[shape[0]*(shape[0]-i-1):shape[0]*(shape[0]-i)]-yi[-shape[0]])\n",
    "    c = (zj[shape[0]*(shape[0]-i-1):shape[0]*(shape[0]-i)]-zi[-shape[0]])\n",
    "    r = (a*a+b*b+c*c)\n",
    "    r3 = r**(-1.5)\n",
    "    r5 = r**(2.5)\n",
    "    Hxx = -r3+3*(a*a)/r5\n",
    "    Hxy = 3*(a*b)/r5\n",
    "    Hxz = 3*(a*c)/r5\n",
    "    Hyy = -r3+3*(b*b)/r5\n",
    "    Hyz = 3*(b*c)/r5\n",
    "    Hzz = -r3+3*(c*c)/r5\n",
    "    W_bt_2 = ((F[0]*Hxx+F[1]*Hxy+F[2]*Hxz)*h[0] + (F[0]*Hxy+F[1]*Hyy+F[2]*Hyz)*h[1] + (F[0]*Hxz+F[1]*Hyz+F[2]*Hzz)*h[2])\n",
    "\n",
    "    a = (xj[shape[0]*(shape[0]-i-1):shape[0]*(shape[0]-i)]-xi[-1])\n",
    "    b = (yj[shape[0]*(shape[0]-i-1):shape[0]*(shape[0]-i)]-yi[-1])\n",
    "    c = (zj[shape[0]*(shape[0]-i-1):shape[0]*(shape[0]-i)]-zi[-1])\n",
    "    r = (a*a+b*b+c*c)\n",
    "    r3 = r**(-1.5)\n",
    "    r5 = r**(2.5)\n",
    "    Hxx = -r3+3*(a*a)/r5\n",
    "    Hxy = 3*(a*b)/r5\n",
    "    Hxz = 3*(a*c)/r5\n",
    "    Hyy = -r3+3*(b*b)/r5\n",
    "    Hyz = 3*(b*c)/r5\n",
    "    Hzz = -r3+3*(c*c)/r5\n",
    "    W_bt_3 = ((F[0]*Hxx+F[1]*Hxy+F[2]*Hxz)*h[0] + (F[0]*Hxy+F[1]*Hyy+F[2]*Hyz)*h[1] + (F[0]*Hxz+F[1]*Hyz+F[2]*Hzz)*h[2])\n",
    "\n",
    "    block_u = toeplitz(W_bt_1[::-1], W_bt_0) # create each Toeplitz block by the segment of the first row\n",
    "    block_l = toeplitz(W_bt_3[::-1], W_bt_2) # create each Toeplitz block by the segment of the last row\n",
    "\n",
    "    while k < l:\n",
    "        \n",
    "        # lower matrix\n",
    "        block_p = block_l.dot(p_true2[shape[0]*(k):shape[0]*(k+1)])\n",
    "        dobs_bt[shape[0]*(j):shape[0]*(j+1)] += block_p\n",
    "        if i > 0:\n",
    "        # upper matrix\n",
    "            block_p = block_u.dot(p_true2[shape[0]*(j):shape[0]*(j+1)])\n",
    "            dobs_bt[shape[0]*(k):shape[0]*(k+1)] += block_p\n",
    "        \n",
    "        k += 1\n",
    "        j += 1\n",
    "    l -= 1\n",
    "\n",
    "e = time()\n",
    "tcpu = e - s\n",
    "print tcpu\n",
    "print block.nbytes/(1024.*1024.)"
   ]
  },
  {
   "cell_type": "code",
   "execution_count": 11,
   "metadata": {
    "collapsed": false
   },
   "outputs": [
    {
     "data": {
      "text/plain": [
       "True"
      ]
     },
     "execution_count": 11,
     "metadata": {},
     "output_type": "execute_result"
    }
   ],
   "source": [
    "np.allclose(dobs_classic, dobs_bt)"
   ]
  },
  {
   "cell_type": "code",
   "execution_count": null,
   "metadata": {
    "collapsed": true
   },
   "outputs": [],
   "source": []
  }
 ],
 "metadata": {
  "anaconda-cloud": {},
  "kernelspec": {
   "display_name": "Python [default]",
   "language": "python",
   "name": "python2"
  },
  "language_info": {
   "codemirror_mode": {
    "name": "ipython",
    "version": 2
   },
   "file_extension": ".py",
   "mimetype": "text/x-python",
   "name": "python",
   "nbconvert_exporter": "python",
   "pygments_lexer": "ipython2",
   "version": "2.7.12"
  }
 },
 "nbformat": 4,
 "nbformat_minor": 1
}
