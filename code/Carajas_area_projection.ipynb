{
 "cells": [
  {
   "cell_type": "code",
   "execution_count": 1,
   "metadata": {},
   "outputs": [
    {
     "ename": "ImportError",
     "evalue": "No module named basemap",
     "output_type": "error",
     "traceback": [
      "\u001b[1;31m\u001b[0m",
      "\u001b[1;31mImportError\u001b[0mTraceback (most recent call last)",
      "\u001b[1;32m<ipython-input-1-a303f80b9519>\u001b[0m in \u001b[0;36m<module>\u001b[1;34m()\u001b[0m\n\u001b[1;32m----> 1\u001b[1;33m \u001b[1;32mfrom\u001b[0m \u001b[0mmpl_toolkits\u001b[0m\u001b[1;33m.\u001b[0m\u001b[0mbasemap\u001b[0m \u001b[1;32mimport\u001b[0m \u001b[0mBasemap\u001b[0m\u001b[1;33m\u001b[0m\u001b[0m\n\u001b[0m\u001b[0;32m      2\u001b[0m \u001b[1;32mimport\u001b[0m \u001b[0mnumpy\u001b[0m \u001b[1;32mas\u001b[0m \u001b[0mnp\u001b[0m\u001b[1;33m\u001b[0m\u001b[0m\n\u001b[0;32m      3\u001b[0m \u001b[1;32mimport\u001b[0m \u001b[0mmatplotlib\u001b[0m\u001b[1;33m.\u001b[0m\u001b[0mpyplot\u001b[0m \u001b[1;32mas\u001b[0m \u001b[0mplt\u001b[0m\u001b[1;33m\u001b[0m\u001b[0m\n\u001b[0;32m      4\u001b[0m \u001b[1;33m\u001b[0m\u001b[0m\n\u001b[0;32m      5\u001b[0m \u001b[1;32mdef\u001b[0m \u001b[0mplot_rec\u001b[0m\u001b[1;33m(\u001b[0m\u001b[0mbmap\u001b[0m\u001b[1;33m,\u001b[0m \u001b[0mlower_left\u001b[0m\u001b[1;33m,\u001b[0m \u001b[0mupper_left\u001b[0m\u001b[1;33m,\u001b[0m \u001b[0mlower_right\u001b[0m\u001b[1;33m,\u001b[0m \u001b[0mupper_right\u001b[0m\u001b[1;33m)\u001b[0m\u001b[1;33m:\u001b[0m\u001b[1;33m\u001b[0m\u001b[0m\n",
      "\u001b[1;31mImportError\u001b[0m: No module named basemap"
     ]
    }
   ],
   "source": [
    "from mpl_toolkits.basemap import Basemap\n",
    "import numpy as np\n",
    "import matplotlib.pyplot as plt\n",
    "\n",
    "def plot_rec(bmap, lower_left, upper_left, lower_right, upper_right):\n",
    "    xs = [lower_left[0], upper_left[0],\n",
    "          lower_right[0], upper_right[0],\n",
    "          lower_left[0], lower_right[0],\n",
    "          upper_left[0], upper_right[0]]\n",
    "    ys = [lower_left[1], upper_left[1],\n",
    "          lower_right[1], upper_right[1],\n",
    "          lower_left[1], lower_right[1],\n",
    "          upper_left[1], upper_right[1]]\n",
    "    bmap.plot(xs, ys, latlon = True)\n",
    "\n",
    "# llcrnrlat,llcrnrlon,urcrnrlat,urcrnrlon\n",
    "# are the lat/lon values of the lower left and upper right corners\n",
    "# of the map.\n",
    "# lat_ts is the latitude of true scale.\n",
    "# resolution = 'c' means use crude resolution coastlines.\n",
    "m = Basemap(projection='merc',llcrnrlat=-40,urcrnrlat=10,\\\n",
    "            llcrnrlon=-82,urcrnrlon=-29,lat_ts=20,resolution='c')\n",
    "m.drawcoastlines()\n",
    "m.fillcontinents(color='white',lake_color='aqua')\n",
    "\n",
    "llcrnrlon = -53\n",
    "urcrnrlon =  -49\n",
    "llcrnrlat =  -8\n",
    "urcrnrlat =  -5\n",
    "lower_left = (llcrnrlon, llcrnrlat)\n",
    "lower_right= (urcrnrlon, llcrnrlat)\n",
    "upper_left = (llcrnrlon, urcrnrlat)\n",
    "upper_right= (urcrnrlon, urcrnrlat)\n",
    "plot_rec(m, lower_left, upper_left, lower_right, upper_right)\n",
    "\n",
    "# draw parallels and meridians.\n",
    "m.drawparallels(np.arange(-90.,91.,15.),labels=[True,True,False,False],dashes=[2,2])\n",
    "m.drawmeridians(np.arange(-180.,181.,15.),labels=[False,False,False,True],dashes=[2,2])\n",
    "m.drawmapboundary(fill_color='lightblue')\n",
    "m.drawcountries(linewidth=2, linestyle='solid', color='k' ) \n",
    "#m.drawstates(linewidth=0.5, linestyle='solid', color='k')\n",
    "#plt.title(\"Mercator Projection\")\n",
    "plt.tight_layout(True)\n",
    "#plt.savefig('../manuscript/Fig/projection.png', dpi= 500)\n",
    "plt.show()"
   ]
  },
  {
   "cell_type": "code",
   "execution_count": null,
   "metadata": {},
   "outputs": [],
   "source": []
  }
 ],
 "metadata": {
  "anaconda-cloud": {},
  "kernelspec": {
   "display_name": "Python 2",
   "language": "python",
   "name": "python2"
  },
  "language_info": {
   "codemirror_mode": {
    "name": "ipython",
    "version": 2
   },
   "file_extension": ".py",
   "mimetype": "text/x-python",
   "name": "python",
   "nbconvert_exporter": "python",
   "pygments_lexer": "ipython2",
   "version": "2.7.15"
  }
 },
 "nbformat": 4,
 "nbformat_minor": 1
}
