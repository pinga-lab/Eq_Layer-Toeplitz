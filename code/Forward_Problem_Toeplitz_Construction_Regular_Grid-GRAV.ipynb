{
 "cells": [
  {
   "cell_type": "markdown",
   "metadata": {},
   "source": [
    "# Import"
   ]
  },
  {
   "cell_type": "code",
   "execution_count": 13,
   "metadata": {
    "collapsed": false
   },
   "outputs": [],
   "source": [
    "import numpy as np\n",
    "from fatiando import mesher, gridder, utils\n",
    "from scipy.linalg import toeplitz\n",
    "from sys import getsizeof\n",
    "from timeit import default_timer as time\n",
    "%matplotlib inline"
   ]
  },
  {
   "cell_type": "markdown",
   "metadata": {},
   "source": [
    "# Observation and Equivalent layer grids"
   ]
  },
  {
   "cell_type": "code",
   "execution_count": 16,
   "metadata": {
    "collapsed": true
   },
   "outputs": [],
   "source": [
    "# Create a regular grid at 0m height\n",
    "#area = [1, 4, 1, 3]\n",
    "area = [0, 100, 0, 50]\n",
    "shape = (100, 100)\n",
    "xi, yi, zi = gridder.regular(area, shape, z=0.)\n",
    "\n",
    "# Equivalent Layer\n",
    "xj, yj, zj = gridder.regular(area, shape, z=80)\n",
    "\n",
    "# Create the true parameters vector\n",
    "N = shape[0]*shape[1]\n",
    "p_true = np.arange(0,N,1)\n",
    "p_true2 = p_true.reshape(N,1)"
   ]
  },
  {
   "cell_type": "markdown",
   "metadata": {},
   "source": [
    "# Classic Forward Problem Construction - GRAV"
   ]
  },
  {
   "cell_type": "code",
   "execution_count": 17,
   "metadata": {
    "collapsed": false
   },
   "outputs": [
    {
     "name": "stdout",
     "output_type": "stream",
     "text": [
      "5.89216416357\n",
      "762.939453125\n"
     ]
    }
   ],
   "source": [
    "# Calculo da matriz de sensibilidade\n",
    "A = np.zeros((N, N), dtype=np.float)\n",
    "\n",
    "s = time()\n",
    "c_1 = zj[0]-zi[0]\n",
    "c_2 = c_1*c_1\n",
    "for i in xrange (N):\n",
    "    a = (xj-xi[i])\n",
    "    b = (yj-yi[i])\n",
    "    A[i] = (a*a+b*b+c_2)**(-1.5)\n",
    "A *= c_1\n",
    "\n",
    "dobs_classic = A.dot(p_true2)\n",
    "\n",
    "e = time()\n",
    "tcpu = e - s\n",
    "print tcpu\n",
    "print A.nbytes/(1024.*1024.)"
   ]
  },
  {
   "cell_type": "markdown",
   "metadata": {},
   "source": [
    "# First Row to Toeplitz Blocks - Forward Model"
   ]
  },
  {
   "cell_type": "code",
   "execution_count": 18,
   "metadata": {
    "collapsed": false
   },
   "outputs": [
    {
     "name": "stdout",
     "output_type": "stream",
     "text": [
      "0.0814180707428\n",
      "0.0762939453125\n"
     ]
    }
   ],
   "source": [
    "# Simplified allocation of blocks*parameters (slower)\n",
    "\n",
    "s = time()\n",
    "dobs_bt = np.zeros(N).reshape(N,1)\n",
    "\n",
    "l = shape[0]\n",
    "\n",
    "for i in range (shape[1]): \n",
    "    k = 0 # index of the parameter's segment (lower matrix)/ index of the data's segment (upper matrix)\n",
    "    j = i # index of the parameter's segment (upper matrix)/ index of the data's segment (lower matrix)\n",
    "\n",
    "    a = (xj[shape[0]*(i):shape[0]*(i+1)]-xi[0])\n",
    "    b = (yj[shape[0]*(i):shape[0]*(i+1)]-yi[0])\n",
    "    c = (zj[shape[0]*(i):shape[0]*(i+1)]-zi[0])\n",
    "    W_bt = c/(a*a+b*b+c*c)**(1.5)\n",
    "    block = toeplitz(W_bt) # create each Toeplitz block by the segment of the first row\n",
    "        \n",
    "    while k < l:\n",
    "        \n",
    "        # lower matrix\n",
    "        block_p = block.dot(p_true2[shape[0]*(k):shape[0]*(k+1)])\n",
    "        dobs_bt[shape[0]*(j):shape[0]*(j+1)] += block_p\n",
    "        \n",
    "        # upper matrix\n",
    "        if i > 0:\n",
    "            block_p = block.dot(p_true2[shape[0]*(j):shape[0]*(j+1)])\n",
    "            dobs_bt[shape[0]*(k):shape[0]*(k+1)] += block_p\n",
    "        \n",
    "        k += 1\n",
    "        j += 1\n",
    "    l -= 1\n",
    "    \n",
    "e = time()\n",
    "tcpu = e - s\n",
    "print tcpu\n",
    "print block.nbytes/(1024.*1024.)"
   ]
  },
  {
   "cell_type": "code",
   "execution_count": 19,
   "metadata": {
    "collapsed": false
   },
   "outputs": [
    {
     "name": "stdout",
     "output_type": "stream",
     "text": [
      "0.0546929659254\n",
      "0.0762939453125\n"
     ]
    }
   ],
   "source": [
    "# More complex allocation of blocks*parameters (faster)\n",
    "\n",
    "s = time()\n",
    "dobs_bt_1 = np.zeros(N).reshape(N,1)\n",
    "\n",
    "l = shape[0]\n",
    "\n",
    "for i in range (shape[1]): \n",
    "    k = 0 # index of the parameter's segment\n",
    "    j = 0+i # index of the data's segment using the lower matrix\n",
    "    u = 0 # index of the data's segment using the upper matrix\n",
    "    a = (xj[shape[0]*(i):shape[0]*(i+1)]-xi[0])\n",
    "    b = (yj[shape[0]*(i):shape[0]*(i+1)]-yi[0])\n",
    "    c = (zj[shape[0]*(i):shape[0]*(i+1)]-zi[0])\n",
    "    W_bt = c/(a*a+b*b+c*c)**(1.5)\n",
    "    block = toeplitz(W_bt) # create each Toeplitz block by the segment of the first row\n",
    "        \n",
    "    while k < l: # lower matrix\n",
    "        block_p = block.dot(p_true2[shape[0]*(k):shape[0]*(k+1)])\n",
    "        dobs_bt_1[shape[0]*(j):shape[0]*(j+1)] += block_p\n",
    "        if k >= i and i > 0: # upper matrix 1\n",
    "            dobs_bt_1[shape[0]*(u):shape[0]*(u+1)] += block_p\n",
    "            u += 1\n",
    "        k += 1\n",
    "        j += 1\n",
    "    while i > 0 and k >= l and k < shape [1]: # upper matrix 2\n",
    "        if k >= i:\n",
    "            block_p = block.dot(p_true2[shape[0]*(k):shape[0]*(k+1)])       \n",
    "            dobs_bt_1[shape[0]*(u):shape[0]*(u+1)] += block_p\n",
    "            u += 1\n",
    "        k += 1\n",
    "    l -= 1\n",
    "    \n",
    "e = time()\n",
    "tcpu = e - s\n",
    "print tcpu\n",
    "print block.nbytes/(1024.*1024.)"
   ]
  },
  {
   "cell_type": "code",
   "execution_count": 20,
   "metadata": {
    "collapsed": false
   },
   "outputs": [
    {
     "data": {
      "text/plain": [
       "True"
      ]
     },
     "execution_count": 20,
     "metadata": {},
     "output_type": "execute_result"
    }
   ],
   "source": [
    "np.allclose(dobs_classic, dobs_bt, dobs_bt_1)"
   ]
  },
  {
   "cell_type": "code",
   "execution_count": null,
   "metadata": {
    "collapsed": true
   },
   "outputs": [],
   "source": []
  }
 ],
 "metadata": {
  "anaconda-cloud": {},
  "kernelspec": {
   "display_name": "Python [default]",
   "language": "python",
   "name": "python2"
  },
  "language_info": {
   "codemirror_mode": {
    "name": "ipython",
    "version": 2
   },
   "file_extension": ".py",
   "mimetype": "text/x-python",
   "name": "python",
   "nbconvert_exporter": "python",
   "pygments_lexer": "ipython2",
   "version": "2.7.12"
  }
 },
 "nbformat": 4,
 "nbformat_minor": 1
}
