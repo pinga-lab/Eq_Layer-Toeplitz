{
 "cells": [
  {
   "cell_type": "code",
   "execution_count": 1,
   "metadata": {},
   "outputs": [
    {
     "name": "stderr",
     "output_type": "stream",
     "text": [
      "/home/vanderlei/Documents/fatiando/fatiando/vis/mpl.py:70: UserWarning: This module will be removed in v0.6. We recommend the use of matplotlib.pyplot module directly. Some of the fatiando specific functions will remain.\n",
      "  \"specific functions will remain.\")\n"
     ]
    }
   ],
   "source": [
    "import numpy as np\n",
    "import functions as fc\n",
    "import fourier_continuation as fc_c\n",
    "from timeit import default_timer as time\n",
    "from fatiando.gravmag import polyprism, sphere\n",
    "from fatiando import mesher, gridder,utils\n",
    "from fatiando.constants import G, SI2MGAL\n",
    "from scipy.sparse import diags\n",
    "from matplotlib import pyplot as plt\n",
    "from scipy.interpolate import griddata\n",
    "from scipy import interpolate\n",
    "from fatiando.vis import mpl\n",
    "import cPickle as pickle\n",
    "%matplotlib inline"
   ]
  },
  {
   "cell_type": "markdown",
   "metadata": {},
   "source": [
    "## Create the model"
   ]
  },
  {
   "cell_type": "code",
   "execution_count": 2,
   "metadata": {},
   "outputs": [],
   "source": [
    "# Polygonal Prism model\n",
    "verts1 = [[-500, -3000], [0, -3500], [4500, 0], [4000, 500]]\n",
    "verts2 = [[4000, -3000], [4500, -2500], [0, 3500], [-500, 3000]]\n",
    "\n",
    "model_prism = [mesher.PolygonalPrism(verts1, 900., 1500., props={'density':1000}),\n",
    "               mesher.PolygonalPrism(verts2, 1600., 2200., props={'density':1300})]\n",
    "R = 1000 #Radius\n",
    "xc, yc, zc = -3000.,0.,2000. #Center of sphere\n",
    "model_sphere = [mesher.Sphere(xc, yc, zc,R, props={'density':-1250})]"
   ]
  },
  {
   "cell_type": "markdown",
   "metadata": {},
   "source": [
    "## Grid and Forward model"
   ]
  },
  {
   "cell_type": "code",
   "execution_count": 3,
   "metadata": {},
   "outputs": [
    {
     "name": "stdout",
     "output_type": "stream",
     "text": [
      "101.01010101\n"
     ]
    }
   ],
   "source": [
    "# Create a regular grid at 0m height\n",
    "shape = (100, 100)\n",
    "area = [-5000, 5000, -4000, 4000]\n",
    "xi, yi, zi = gridder.regular(area, shape, z=-100.)\n",
    "print (area[1]-area[0])/(shape[0]-1.)\n",
    "\n",
    "# Vertical component of the gravitational atraction observed\n",
    "dobs_prism = polyprism.gz(xi, yi, zi, model_prism)\n",
    "dobs_sphere = sphere.gz(xi, yi, zi, model_sphere)\n",
    "dobs_0 = dobs_sphere + dobs_prism\n",
    "dobs_low = utils.contaminate(dobs_0, 0.05, seed=0)\n",
    "dobs_med = utils.contaminate(dobs_0, 0.1, seed=0)\n",
    "dobs_high = utils.contaminate(dobs_0, 0.3, seed=0)"
   ]
  },
  {
   "cell_type": "code",
   "execution_count": 4,
   "metadata": {},
   "outputs": [
    {
     "name": "stdout",
     "output_type": "stream",
     "text": [
      "0.0035731292261215407\n",
      "0.0071462584522430815\n",
      "0.021438775356729244\n"
     ]
    }
   ],
   "source": [
    "print 0.05/(np.max(dobs_0)-np.min(dobs_0))\n",
    "print 0.1/(np.max(dobs_0)-np.min(dobs_0))\n",
    "print 0.3/(np.max(dobs_0)-np.min(dobs_0))"
   ]
  },
  {
   "cell_type": "markdown",
   "metadata": {},
   "source": [
    "## True upward data"
   ]
  },
  {
   "cell_type": "code",
   "execution_count": 5,
   "metadata": {},
   "outputs": [],
   "source": [
    "xi, yi, zi_up = gridder.regular(area, shape, z=-300.)\n",
    "\n",
    "# True upward continuation of the gravitational atraction observed data\n",
    "dobs_prism_up = polyprism.gz(xi, yi, zi_up, model_prism)\n",
    "dobs_sphere_up = sphere.gz(xi, yi, zi_up, model_sphere)\n",
    "dobs_up = dobs_sphere_up + dobs_prism_up"
   ]
  },
  {
   "cell_type": "markdown",
   "metadata": {},
   "source": [
    "## True downward data"
   ]
  },
  {
   "cell_type": "code",
   "execution_count": 6,
   "metadata": {},
   "outputs": [],
   "source": [
    "xi, yi, zi_down = gridder.regular(area, shape, z=-50.)\n",
    "\n",
    "#Vertical component of the gravitational atraction observed downward\n",
    "dobs_prism_down = polyprism.gz(xi, yi, zi_down, model_prism)\n",
    "dobs_sphere_down = sphere.gz(xi, yi, zi_down, model_sphere)\n",
    "dobs_down = dobs_sphere_down + dobs_prism_down"
   ]
  },
  {
   "cell_type": "markdown",
   "metadata": {},
   "source": [
    "## Save the data"
   ]
  },
  {
   "cell_type": "code",
   "execution_count": 7,
   "metadata": {},
   "outputs": [],
   "source": [
    "dobs = dict()\n",
    "dobs['x'] = xi\n",
    "dobs['y'] = yi\n",
    "dobs['z'] = zi\n",
    "dobs['z_up'] = zi_up\n",
    "dobs['z_down'] = zi_down\n",
    "dobs['gz_low'] = dobs_low\n",
    "dobs['gz_med'] = dobs_med\n",
    "dobs['gz_high'] = dobs_high\n",
    "dobs['gz_up'] = dobs_up\n",
    "dobs['gz_down'] = dobs_down"
   ]
  },
  {
   "cell_type": "code",
   "execution_count": 8,
   "metadata": {},
   "outputs": [],
   "source": [
    "# common limits for all data\n",
    "gz_min = np.min([dobs_low, dobs_med, dobs_high, dobs_up, dobs_down])\n",
    "gz_max = np.max([dobs_low, dobs_med, dobs_high, dobs_up, dobs_down])"
   ]
  },
  {
   "cell_type": "code",
   "execution_count": 9,
   "metadata": {},
   "outputs": [],
   "source": [
    "dobs['gz_min'] = gz_min\n",
    "dobs['gz_max'] = gz_max"
   ]
  },
  {
   "cell_type": "code",
   "execution_count": 10,
   "metadata": {},
   "outputs": [],
   "source": [
    "#save the data\n",
    "file_name = 'synthetic_gz.pickle'\n",
    "with open(file_name, 'w') as f:\n",
    "    pickle.dump(dobs, f)"
   ]
  },
  {
   "cell_type": "markdown",
   "metadata": {},
   "source": [
    "## Test pickle file"
   ]
  },
  {
   "cell_type": "code",
   "execution_count": 11,
   "metadata": {},
   "outputs": [
    {
     "data": {
      "text/plain": [
       "array([-50., -50., -50., ..., -50., -50., -50.])"
      ]
     },
     "execution_count": 11,
     "metadata": {},
     "output_type": "execute_result"
    }
   ],
   "source": [
    "with open('synthetic_gz.pickle') as r:\n",
    "    synthetic_gz = pickle.load(r)\n",
    "    \n",
    "dobs['z_down']"
   ]
  },
  {
   "cell_type": "markdown",
   "metadata": {
    "collapsed": true
   },
   "source": [
    "## True data plot"
   ]
  },
  {
   "cell_type": "code",
   "execution_count": null,
   "metadata": {},
   "outputs": [],
   "source": [
    "#Projection_model \n",
    "phi = np.linspace(0, 2.*np.pi, 36)  #36 points\n",
    "x = xc + R*np.cos(phi)\n",
    "y = yc + R*np.sin(phi)\n",
    "\n",
    "x_p = [-3000., -3500,0,500,-3000.]\n",
    "y_p = [-500., 0,4500,4000,-500.]\n",
    "\n",
    "x_p2 = [-3000, -2500,3500,3000,-3000.]\n",
    "y_p2 = [4000, 4500,0,-500,4000]"
   ]
  },
  {
   "cell_type": "code",
   "execution_count": 18,
   "metadata": {},
   "outputs": [
    {
     "data": {
      "image/png": "[encoded data removed]",
      "text/plain": [
       "<Figure size 311.76x249.408 with 2 Axes>"
      ]
     },
     "metadata": {
      "needs_background": "light"
     },
     "output_type": "display_data"
    }
   ],
   "source": [
    "# plot of the vertical component of the gravitational atraction at z=0 \n",
    "plt.figure(figsize=(4.33,4.33*0.8))\n",
    "\n",
    "plt.plot()\n",
    "plt.tricontourf(yi,xi,dobs['gz_low'],22,cmap='jet',vmin=dobs['gz_min'],vmax=dobs['gz_max'])\n",
    "plt.plot(x_p,y_p,color=\"k\", linewidth=3)\n",
    "plt.plot(x_p2,y_p2,color=\"k\", linewidth=3)\n",
    "plt.plot(y, x, color=\"k\", linewidth=3)\n",
    "cb = plt.colorbar(shrink=1)\n",
    "#plt.axis('scaled')\n",
    "cb.set_label('Gravity data (mGal)', rotation=90, fontsize=14)\n",
    "plt.xlim(np.min(yi),np.max(yi))\n",
    "plt.ylim(np.min(xi),np.max(xi))\n",
    "plt.xticks(fontsize=12)\n",
    "plt.yticks(fontsize=12)\n",
    "plt.xlabel('Easting coordinate y (km)', fontsize=12)\n",
    "plt.ylabel('Northing coordinate x (m)', fontsize=12)\n",
    "mpl.m2km()\n",
    "#plt.plot(yi, xi, 'ko-', alpha=0.1)\n",
    "plt.tight_layout(True)\n",
    "plt.savefig('../manuscript/Fig/synthetic_data_low.png', dpi=1200)"
   ]
  },
  {
   "cell_type": "code",
   "execution_count": null,
   "metadata": {},
   "outputs": [],
   "source": [
    "# plot of the vertical component of the gravitational atraction at z=0 \n",
    "plt.figure(figsize=(6,6))\n",
    "\n",
    "plt.plot()\n",
    "plt.tricontourf(yi,xi,dobs['gz_med'],22,cmap='jet',vmin=dobs['gz_min'],vmax=dobs['gz_max'])\n",
    "plt.plot(x_p,y_p,color=\"k\", linewidth=3)\n",
    "plt.plot(x_p2,y_p2,color=\"k\", linewidth=3)\n",
    "plt.plot(y, x, color=\"k\", linewidth=3)\n",
    "cb = plt.colorbar(shrink=1)\n",
    "#plt.axis('scaled')\n",
    "cb.set_label('$Gz$ ( $mGal$ )', rotation=90, fontsize=14)\n",
    "plt.xlim(np.min(yi),np.max(yi))\n",
    "plt.ylim(np.min(xi),np.max(xi))\n",
    "plt.xticks(fontsize=12)\n",
    "plt.yticks(fontsize=12)\n",
    "plt.xlabel('Easting coordinate y (km)', fontsize=12)\n",
    "plt.ylabel('Northing coordinate x (m)', fontsize=12)\n",
    "mpl.m2km()\n",
    "#plt.plot(yi, xi, 'ko-', alpha=0.1)\n",
    "plt.tight_layout(True)\n",
    "plt.savefig('../manuscript/Fig/synthetic_data_med.png', dpi=300)"
   ]
  },
  {
   "cell_type": "code",
   "execution_count": null,
   "metadata": {},
   "outputs": [],
   "source": [
    "# plot of the vertical component of the gravitational atraction at z=0 \n",
    "plt.figure(figsize=(6,6))\n",
    "\n",
    "plt.plot()\n",
    "plt.tricontourf(yi,xi,dobs['gz_high'],22,cmap='jet',vmin=dobs['gz_min'],vmax=dobs['gz_max'])\n",
    "plt.plot(x_p,y_p,color=\"k\", linewidth=3)\n",
    "plt.plot(x_p2,y_p2,color=\"k\", linewidth=3)\n",
    "plt.plot(y, x, color=\"k\", linewidth=3)\n",
    "cb = plt.colorbar(shrink=1)\n",
    "#plt.axis('scaled')\n",
    "cb.set_label('$Gz$ ( $mGal$ )', rotation=90, fontsize=14)\n",
    "plt.xlim(np.min(yi),np.max(yi))\n",
    "plt.ylim(np.min(xi),np.max(xi))\n",
    "plt.xticks(fontsize=12)\n",
    "plt.yticks(fontsize=12)\n",
    "plt.xlabel('Easting coordinate y (km)', fontsize=12)\n",
    "plt.ylabel('Northing coordinate x (m)', fontsize=12)\n",
    "mpl.m2km()\n",
    "#plt.plot(yi, xi, 'ko-', alpha=0.1)\n",
    "plt.tight_layout(True)\n",
    "plt.savefig('../manuscript/Fig/synthetic_data_high.png', dpi=300)"
   ]
  },
  {
   "cell_type": "code",
   "execution_count": null,
   "metadata": {},
   "outputs": [],
   "source": [
    "# plot of the vertical component of the gravitational atraction at z=0 \n",
    "plt.figure(figsize=(6,6))\n",
    "\n",
    "plt.plot()\n",
    "plt.tricontourf(yi,xi,dobs['gz_up'],22,cmap='jet',vmin=dobs['gz_min'],vmax=dobs['gz_max'])\n",
    "plt.plot(x_p,y_p,color=\"k\", linewidth=3)\n",
    "plt.plot(x_p2,y_p2,color=\"k\", linewidth=3)\n",
    "plt.plot(y, x, color=\"k\", linewidth=3)\n",
    "cb = plt.colorbar(shrink=1)\n",
    "#plt.axis('scaled')\n",
    "cb.set_label('$Gz$ ( $mGal$ )', rotation=90, fontsize=14)\n",
    "plt.xlim(np.min(yi),np.max(yi))\n",
    "plt.ylim(np.min(xi),np.max(xi))\n",
    "plt.xticks(fontsize=12)\n",
    "plt.yticks(fontsize=12)\n",
    "plt.xlabel('Easting coordinate y (km)', fontsize=12)\n",
    "plt.ylabel('Northing coordinate x (m)', fontsize=12)\n",
    "mpl.m2km()\n",
    "#plt.plot(yi, xi, 'ko-', alpha=0.1)\n",
    "plt.tight_layout(True)\n",
    "plt.savefig('../manuscript/Fig/synthetic_data_up.png', dpi=300)"
   ]
  },
  {
   "cell_type": "code",
   "execution_count": null,
   "metadata": {},
   "outputs": [],
   "source": [
    "# plot of the vertical component of the gravitational atraction at z=0 \n",
    "plt.figure(figsize=(6,6))\n",
    "\n",
    "plt.plot()\n",
    "plt.tricontourf(yi,xi,dobs['gz_down'],22,cmap='jet',vmin=dobs['gz_min'],vmax=dobs['gz_max'])\n",
    "plt.plot(x_p,y_p,color=\"k\", linewidth=3)\n",
    "plt.plot(x_p2,y_p2,color=\"k\", linewidth=3)\n",
    "plt.plot(y, x, color=\"k\", linewidth=3)\n",
    "cb = plt.colorbar(shrink=1)\n",
    "#plt.axis('scaled')\n",
    "cb.set_label('$Gz$ ( $mGal$ )', rotation=90, fontsize=14)\n",
    "plt.xlim(np.min(yi),np.max(yi))\n",
    "plt.ylim(np.min(xi),np.max(xi))\n",
    "plt.xticks(fontsize=12)\n",
    "plt.yticks(fontsize=12)\n",
    "plt.xlabel('Easting coordinate y (km)', fontsize=12)\n",
    "plt.ylabel('Northing coordinate x (m)', fontsize=12)\n",
    "mpl.m2km()\n",
    "#plt.plot(yi, xi, 'ko-', alpha=0.1)\n",
    "plt.tight_layout(True)\n",
    "plt.savefig('../manuscript/Fig/synthetic_data_down.png', dpi=300)"
   ]
  },
  {
   "cell_type": "code",
   "execution_count": null,
   "metadata": {},
   "outputs": [],
   "source": []
  }
 ],
 "metadata": {
  "anaconda-cloud": {},
  "kernelspec": {
   "display_name": "Python 2",
   "language": "python",
   "name": "python2"
  },
  "language_info": {
   "codemirror_mode": {
    "name": "ipython",
    "version": 2
   },
   "file_extension": ".py",
   "mimetype": "text/x-python",
   "name": "python",
   "nbconvert_exporter": "python",
   "pygments_lexer": "ipython2",
   "version": "2.7.17"
  }
 },
 "nbformat": 4,
 "nbformat_minor": 1
}
