{
 "cells": [
  {
   "cell_type": "code",
   "execution_count": 1,
   "metadata": {},
   "outputs": [],
   "source": [
    "import numpy as np\n",
    "import matplotlib.pyplot as plt\n",
    "import matplotlib.ticker as tck"
   ]
  },
  {
   "cell_type": "code",
   "execution_count": 2,
   "metadata": {},
   "outputs": [],
   "source": [
    "def i2kl_x(i, N):\n",
    "    i = np.asarray(i)\n",
    "    assert i.dtype.kind is 'i', 'i must be integer'\n",
    "    assert isinstance(N, int), 'N must be integer'\n",
    "    l = np.ceil(i/N).astype(int)\n",
    "    k = i - (l - 1)*N\n",
    "    return k, l\n",
    "\n",
    "def kl2i_x(k, l, N):\n",
    "    k = np.asarray(k)\n",
    "    l = np.asarray(l)\n",
    "    assert k.dtype.kind is 'i', 'k must be integer'\n",
    "    assert l.dtype.kind is 'i', 'l must be integer'\n",
    "    assert isinstance(N, int), 'N must be integer'\n",
    "    i = (l - 1)*N + k\n",
    "    return i"
   ]
  },
  {
   "cell_type": "code",
   "execution_count": 3,
   "metadata": {},
   "outputs": [],
   "source": [
    "def i2kl_y(i, N):\n",
    "    i = np.asarray(i)\n",
    "    assert i.dtype.kind is 'i', 'i must be integer'\n",
    "    assert isinstance(N, int), 'N must be integer'\n",
    "    k = np.ceil(i/N).astype(int)\n",
    "    l = i - (k - 1)*N\n",
    "    return k, l\n",
    "\n",
    "def kl2i_y(k, l, N):\n",
    "    k = np.asarray(k)\n",
    "    l = np.asarray(l)\n",
    "    assert k.dtype.kind is 'i', 'k must be integer'\n",
    "    assert l.dtype.kind is 'i', 'l must be integer'\n",
    "    assert isinstance(N, int), 'N must be integer'\n",
    "    i = (k - 1)*N + l\n",
    "    return i"
   ]
  },
  {
   "cell_type": "code",
   "execution_count": 4,
   "metadata": {},
   "outputs": [],
   "source": [
    "def Delta_ij(Nx, Ny, order='x'):\n",
    "    assert isinstance(Nx, int), 'Nx must be integer'\n",
    "    assert isinstance(Ny, int), 'Ny must be integer'\n",
    "    assert (Nx > 0) and (Ny > 0), 'Nx and Ny must be positive'\n",
    "    assert order in ['x', 'y'], 'order must be \"x\" or \"y\"'\n",
    "\n",
    "    j, i = np.meshgrid(np.arange(1, Nx*Ny+1), \n",
    "                       np.arange(1, Nx*Ny+1))\n",
    "    \n",
    "    if order == 'x':\n",
    "        Dij = np.ceil(i/Nx) - np.ceil(j/Nx)\n",
    "    else:\n",
    "        Dij = np.ceil(i/Ny) - np.ceil(j/Ny)\n",
    "\n",
    "    return i, j, Dij.astype(int)"
   ]
  },
  {
   "cell_type": "code",
   "execution_count": 5,
   "metadata": {},
   "outputs": [],
   "source": [
    "def diff_i_j(Nx, Ny):\n",
    "    assert isinstance(Nx, int), 'Nx must be integer'\n",
    "    assert isinstance(Ny, int), 'Ny must be integer'\n",
    "    assert (Nx > 0) and (Ny > 0), 'Nx and Ny must be positive'\n",
    "\n",
    "    j, i = np.meshgrid(np.arange(1, Nx*Ny+1), \n",
    "                       np.arange(1, Nx*Ny+1))\n",
    "    diff = i - j\n",
    "\n",
    "    return diff"
   ]
  },
  {
   "cell_type": "code",
   "execution_count": 6,
   "metadata": {},
   "outputs": [],
   "source": [
    "def Delta_kij(Nx, Ny, order='x'):\n",
    "    assert isinstance(Nx, int), 'Nx must be integer'\n",
    "    assert isinstance(Ny, int), 'Ny must be integer'\n",
    "    assert (Nx > 0) and (Ny > 0), 'Nx and Ny must be positive'\n",
    "    assert order in ['x', 'y'], 'order must be \"col\" or \"row\"'\n",
    "\n",
    "    i, j, Dij = Delta_ij(Nx=Nx, Ny=Ny, order=order)\n",
    "\n",
    "    if order == 'x':\n",
    "        result = i - j - Dij*Nx\n",
    "    else:\n",
    "        result = Dij\n",
    "\n",
    "    return result"
   ]
  },
  {
   "cell_type": "code",
   "execution_count": 7,
   "metadata": {},
   "outputs": [],
   "source": [
    "def Delta_lij(Nx, Ny, order='x'):\n",
    "    assert isinstance(Nx, int), 'Nx must be integer'\n",
    "    assert isinstance(Ny, int), 'Ny must be integer'\n",
    "    assert (Nx > 0) and (Ny > 0), 'Nx and Ny must be positive'\n",
    "    assert order in ['x', 'y'], 'order must be \"col\" or \"row\"'\n",
    "\n",
    "    i, j, Dij = Delta_ij(Nx=Nx, Ny=Ny, order=order)\n",
    "\n",
    "    if order == 'x':\n",
    "        result = Dij\n",
    "    else:\n",
    "        result = i - j - Dij*Ny\n",
    "\n",
    "    return result"
   ]
  },
  {
   "cell_type": "code",
   "execution_count": 8,
   "metadata": {},
   "outputs": [],
   "source": [
    "def indexed_grid(Nx, Ny, cmap='viridis'):\n",
    "    \n",
    "    assert isinstance(Nx, int), 'Nx must be integer'\n",
    "    assert isinstance(Ny, int), 'Ny must be integer'\n",
    "    \n",
    "    fig, axs = plt.subplots(nrows=1, ncols=2, figsize=(12, 6))\n",
    "    \n",
    "    fig.subplots_adjust(left=0.03, right=0.97, hspace=0.5, wspace=0.5)\n",
    "\n",
    "    data = np.arange(1, Nx*Ny + 1)\n",
    "    \n",
    "    data_x = data.reshape((Ny, Nx)).T[::-1]\n",
    "    data_y = data.reshape((Nx, Ny))[::-1]\n",
    "\n",
    "    k = np.arange(1, Nx+1)[::-1]\n",
    "    l = np.arange(1, Ny+1)\n",
    "\n",
    "    for d, ax in zip([data_x, data_y], axs.flat):\n",
    "\n",
    "        # Plot the grid as a colormap\n",
    "        im = ax.imshow(d, cmap=cmap)\n",
    "\n",
    "        # Set the formatter\n",
    "        valfmt = tck.StrMethodFormatter(\"{x:3d}\")\n",
    "\n",
    "        # Loop over the data and create a `Text` for each \"pixel\".\n",
    "        for i in range(d.shape[0]):\n",
    "            for j in range(d.shape[1]):\n",
    "                im.axes.text(j, i, valfmt(d[i, j], None), color='k', fontsize=14, \n",
    "                             horizontalalignment=\"center\", verticalalignment=\"center\")\n",
    "\n",
    "        # set the ticks\n",
    "        ax.set_xticks(np.arange(d.shape[1]))\n",
    "        ax.set_yticks(np.arange(d.shape[0]))\n",
    "\n",
    "        # Set the labels\n",
    "        ax.set_xticklabels(l, fontsize=12)\n",
    "        ax.set_yticklabels(k, fontsize=12)\n",
    "        ax.set_xlabel('index l', fontsize=16)\n",
    "        ax.set_ylabel('index k', fontsize=16)\n",
    "\n",
    "        ax.set_xticks(np.arange(d.shape[1]+1)-.5, minor=True)\n",
    "        ax.set_yticks(np.arange(d.shape[0]+1)-.5, minor=True)\n",
    "        ax.tick_params(which=\"minor\", bottom=False, left=False)\n",
    "        ax.grid(which=\"minor\", color=\"k\", linestyle='-', linewidth=3)\n",
    "\n",
    "    fig.tight_layout()\n",
    "    plt.show()"
   ]
  },
  {
   "cell_type": "code",
   "execution_count": 9,
   "metadata": {},
   "outputs": [],
   "source": [
    "def plot_grid(data, cmap='seismic'):\n",
    "    bounds = np.array([i for i in np.arange(np.min(data)-0.5, np.max(data)+1.5, 1)])\n",
    "    ticks_place = bounds+0.5\n",
    "    fig, ax = plt.subplots()\n",
    "    cax = ax.matshow(data, cmap=plt.get_cmap(cmap))\n",
    "    cbar = fig.colorbar(cax, boundaries=bounds, ticks=ticks_place)\n",
    "    plt.show()"
   ]
  },
  {
   "cell_type": "markdown",
   "metadata": {},
   "source": [
    "## Examples of indexed grid"
   ]
  },
  {
   "cell_type": "markdown",
   "metadata": {},
   "source": [
    "Consider a regular grid of $N_{x} \\times N_{y}$ observation points $(x_{i}, y_{i}, z_{i})$, $i = 1, \\dots, N = N_{x} \\, N_{y}$. The indices $i$ may be defined along the $x$- or $y$-axis, according to the Figure A1."
   ]
  },
  {
   "cell_type": "code",
   "execution_count": 10,
   "metadata": {},
   "outputs": [],
   "source": [
    "Nx = 4\n",
    "Ny = 3"
   ]
  },
  {
   "cell_type": "code",
   "execution_count": 11,
   "metadata": {},
   "outputs": [
    {
     "data": {
      "image/png": "[encoded data removed]",
      "text/plain": [
       "<Figure size 864x432 with 2 Axes>"
      ]
     },
     "metadata": {},
     "output_type": "display_data"
    }
   ],
   "source": [
    "indexed_grid(Nx, Ny, cmap='Blues')"
   ]
  },
  {
   "cell_type": "markdown",
   "metadata": {},
   "source": [
    "<a id='fig1'></a>\n",
    "\n",
    "**Figure A1:** Schematic representation of two regular grids of $N_{x} \\times N_{y}$ observation points $(x_{i}, y_{i})$, $i = 1, \\dots, N = N_{x} \\, N_{y}$, with $N_{x} = 4$ and $N_{y} = 3$. These coordinates are conveniently called observation coordinates. The grid indices $k$ and $l$ define the grid coordinates $x_{k}$ and $y_{l}$, respectively. The numbers inside the colored squares represent the observation index $i$. The left panel shows an $x$-oriented grid. The right panel shows an $y$-oriented grid. For both grids, the point $(x_{1}, y_{1})$ is located at the lower-left corner."
   ]
  },
  {
   "cell_type": "markdown",
   "metadata": {},
   "source": [
    "## Generate synthetic data"
   ]
  },
  {
   "cell_type": "code",
   "execution_count": 12,
   "metadata": {},
   "outputs": [],
   "source": [
    "Nx = 4\n",
    "Ny = 3"
   ]
  },
  {
   "cell_type": "code",
   "execution_count": 13,
   "metadata": {},
   "outputs": [],
   "source": [
    "Dx = 1\n",
    "Dy = 2.5"
   ]
  },
  {
   "cell_type": "code",
   "execution_count": 14,
   "metadata": {},
   "outputs": [],
   "source": [
    "Dz = 3"
   ]
  },
  {
   "cell_type": "markdown",
   "metadata": {},
   "source": [
    "#### Plot the simulated $x$-oriented grids"
   ]
  },
  {
   "cell_type": "code",
   "execution_count": 15,
   "metadata": {},
   "outputs": [],
   "source": [
    "i, j, Dij = Delta_ij(Nx, Ny, order='x')"
   ]
  },
  {
   "cell_type": "code",
   "execution_count": 16,
   "metadata": {},
   "outputs": [
    {
     "data": {
      "image/png": "[encoded data removed]",
      "text/plain": [
       "<Figure size 432x288 with 2 Axes>"
      ]
     },
     "metadata": {},
     "output_type": "display_data"
    }
   ],
   "source": [
    "plot_grid(i, cmap='Reds')"
   ]
  },
  {
   "cell_type": "code",
   "execution_count": 17,
   "metadata": {},
   "outputs": [
    {
     "data": {
      "image/png": "[encoded data removed]",
      "text/plain": [
       "<Figure size 432x288 with 2 Axes>"
      ]
     },
     "metadata": {},
     "output_type": "display_data"
    }
   ],
   "source": [
    "plot_grid(j, cmap='Reds')"
   ]
  },
  {
   "cell_type": "code",
   "execution_count": 18,
   "metadata": {},
   "outputs": [
    {
     "data": {
      "image/png": "[encoded data removed]",
      "text/plain": [
       "<Figure size 432x288 with 2 Axes>"
      ]
     },
     "metadata": {},
     "output_type": "display_data"
    }
   ],
   "source": [
    "plot_grid(Dij)"
   ]
  },
  {
   "cell_type": "code",
   "execution_count": 19,
   "metadata": {
    "scrolled": true
   },
   "outputs": [
    {
     "data": {
      "text/plain": [
       "array([[ 0,  0,  0,  0, -1, -1, -1, -1, -2, -2, -2, -2],\n",
       "       [ 0,  0,  0,  0, -1, -1, -1, -1, -2, -2, -2, -2],\n",
       "       [ 0,  0,  0,  0, -1, -1, -1, -1, -2, -2, -2, -2],\n",
       "       [ 0,  0,  0,  0, -1, -1, -1, -1, -2, -2, -2, -2],\n",
       "       [ 1,  1,  1,  1,  0,  0,  0,  0, -1, -1, -1, -1],\n",
       "       [ 1,  1,  1,  1,  0,  0,  0,  0, -1, -1, -1, -1],\n",
       "       [ 1,  1,  1,  1,  0,  0,  0,  0, -1, -1, -1, -1],\n",
       "       [ 1,  1,  1,  1,  0,  0,  0,  0, -1, -1, -1, -1],\n",
       "       [ 2,  2,  2,  2,  1,  1,  1,  1,  0,  0,  0,  0],\n",
       "       [ 2,  2,  2,  2,  1,  1,  1,  1,  0,  0,  0,  0],\n",
       "       [ 2,  2,  2,  2,  1,  1,  1,  1,  0,  0,  0,  0],\n",
       "       [ 2,  2,  2,  2,  1,  1,  1,  1,  0,  0,  0,  0]])"
      ]
     },
     "execution_count": 19,
     "metadata": {},
     "output_type": "execute_result"
    }
   ],
   "source": [
    "Dij"
   ]
  },
  {
   "cell_type": "code",
   "execution_count": 20,
   "metadata": {},
   "outputs": [],
   "source": [
    "diff_ij_grid = diff_i_j(Nx, Ny)"
   ]
  },
  {
   "cell_type": "code",
   "execution_count": 21,
   "metadata": {},
   "outputs": [
    {
     "data": {
      "image/png": "[encoded data removed]",
      "text/plain": [
       "<Figure size 432x288 with 2 Axes>"
      ]
     },
     "metadata": {},
     "output_type": "display_data"
    }
   ],
   "source": [
    "plot_grid(diff_ij_grid)"
   ]
  },
  {
   "cell_type": "code",
   "execution_count": 22,
   "metadata": {},
   "outputs": [],
   "source": [
    "Dkij_grid = Delta_kij(Nx, Ny, order='x')"
   ]
  },
  {
   "cell_type": "code",
   "execution_count": 23,
   "metadata": {},
   "outputs": [
    {
     "data": {
      "image/png": "[encoded data removed]",
      "text/plain": [
       "<Figure size 432x288 with 2 Axes>"
      ]
     },
     "metadata": {},
     "output_type": "display_data"
    }
   ],
   "source": [
    "plot_grid(Dkij_grid)"
   ]
  },
  {
   "cell_type": "code",
   "execution_count": 24,
   "metadata": {},
   "outputs": [
    {
     "data": {
      "text/plain": [
       "array([[ 0, -1, -2, -3,  0, -1, -2, -3,  0, -1, -2, -3],\n",
       "       [ 1,  0, -1, -2,  1,  0, -1, -2,  1,  0, -1, -2],\n",
       "       [ 2,  1,  0, -1,  2,  1,  0, -1,  2,  1,  0, -1],\n",
       "       [ 3,  2,  1,  0,  3,  2,  1,  0,  3,  2,  1,  0],\n",
       "       [ 0, -1, -2, -3,  0, -1, -2, -3,  0, -1, -2, -3],\n",
       "       [ 1,  0, -1, -2,  1,  0, -1, -2,  1,  0, -1, -2],\n",
       "       [ 2,  1,  0, -1,  2,  1,  0, -1,  2,  1,  0, -1],\n",
       "       [ 3,  2,  1,  0,  3,  2,  1,  0,  3,  2,  1,  0],\n",
       "       [ 0, -1, -2, -3,  0, -1, -2, -3,  0, -1, -2, -3],\n",
       "       [ 1,  0, -1, -2,  1,  0, -1, -2,  1,  0, -1, -2],\n",
       "       [ 2,  1,  0, -1,  2,  1,  0, -1,  2,  1,  0, -1],\n",
       "       [ 3,  2,  1,  0,  3,  2,  1,  0,  3,  2,  1,  0]])"
      ]
     },
     "execution_count": 24,
     "metadata": {},
     "output_type": "execute_result"
    }
   ],
   "source": [
    "Dkij_grid"
   ]
  },
  {
   "cell_type": "code",
   "execution_count": 25,
   "metadata": {},
   "outputs": [],
   "source": [
    "Dlij_grid = Delta_lij(Nx, Ny, order='x')"
   ]
  },
  {
   "cell_type": "code",
   "execution_count": 26,
   "metadata": {},
   "outputs": [
    {
     "data": {
      "image/png": "[encoded data removed]",
      "text/plain": [
       "<Figure size 432x288 with 2 Axes>"
      ]
     },
     "metadata": {},
     "output_type": "display_data"
    }
   ],
   "source": [
    "plot_grid(Dlij_grid)"
   ]
  },
  {
   "cell_type": "code",
   "execution_count": 27,
   "metadata": {},
   "outputs": [
    {
     "data": {
      "text/plain": [
       "array([[ 0,  0,  0,  0, -1, -1, -1, -1, -2, -2, -2, -2],\n",
       "       [ 0,  0,  0,  0, -1, -1, -1, -1, -2, -2, -2, -2],\n",
       "       [ 0,  0,  0,  0, -1, -1, -1, -1, -2, -2, -2, -2],\n",
       "       [ 0,  0,  0,  0, -1, -1, -1, -1, -2, -2, -2, -2],\n",
       "       [ 1,  1,  1,  1,  0,  0,  0,  0, -1, -1, -1, -1],\n",
       "       [ 1,  1,  1,  1,  0,  0,  0,  0, -1, -1, -1, -1],\n",
       "       [ 1,  1,  1,  1,  0,  0,  0,  0, -1, -1, -1, -1],\n",
       "       [ 1,  1,  1,  1,  0,  0,  0,  0, -1, -1, -1, -1],\n",
       "       [ 2,  2,  2,  2,  1,  1,  1,  1,  0,  0,  0,  0],\n",
       "       [ 2,  2,  2,  2,  1,  1,  1,  1,  0,  0,  0,  0],\n",
       "       [ 2,  2,  2,  2,  1,  1,  1,  1,  0,  0,  0,  0],\n",
       "       [ 2,  2,  2,  2,  1,  1,  1,  1,  0,  0,  0,  0]])"
      ]
     },
     "execution_count": 27,
     "metadata": {},
     "output_type": "execute_result"
    }
   ],
   "source": [
    "Dlij_grid"
   ]
  },
  {
   "cell_type": "code",
   "execution_count": 28,
   "metadata": {},
   "outputs": [],
   "source": [
    "R = np.sqrt((Dkij_grid*Dx)**2 + (Dlij_grid*Dy)**2 + (np.ones((Nx*Ny, Nx*Ny))*Dz)**2)"
   ]
  },
  {
   "cell_type": "code",
   "execution_count": 29,
   "metadata": {},
   "outputs": [
    {
     "data": {
      "image/png": "[encoded data removed]",
      "text/plain": [
       "<Figure size 432x288 with 2 Axes>"
      ]
     },
     "metadata": {},
     "output_type": "display_data"
    }
   ],
   "source": [
    "fig, ax = plt.subplots()\n",
    "cax = ax.matshow(R, cmap=plt.get_cmap('Reds'))\n",
    "cbar = fig.colorbar(cax)\n",
    "plt.show()"
   ]
  },
  {
   "cell_type": "code",
   "execution_count": 30,
   "metadata": {},
   "outputs": [],
   "source": [
    "A = Dz/(R**3)"
   ]
  },
  {
   "cell_type": "code",
   "execution_count": 31,
   "metadata": {},
   "outputs": [
    {
     "data": {
      "image/png": "[encoded data removed]",
      "text/plain": [
       "<Figure size 432x288 with 2 Axes>"
      ]
     },
     "metadata": {},
     "output_type": "display_data"
    }
   ],
   "source": [
    "fig, ax = plt.subplots()\n",
    "cax = ax.matshow(A, cmap=plt.get_cmap('Reds'))\n",
    "cbar = fig.colorbar(cax)\n",
    "plt.show()"
   ]
  },
  {
   "cell_type": "markdown",
   "metadata": {},
   "source": [
    "#### Plot the simulated $y$-oriented grids"
   ]
  },
  {
   "cell_type": "code",
   "execution_count": 32,
   "metadata": {},
   "outputs": [],
   "source": [
    "i, j, Dij = Delta_ij(Nx, Ny, order='y')"
   ]
  },
  {
   "cell_type": "code",
   "execution_count": 33,
   "metadata": {},
   "outputs": [
    {
     "data": {
      "image/png": "[encoded data removed]",
      "text/plain": [
       "<Figure size 432x288 with 2 Axes>"
      ]
     },
     "metadata": {},
     "output_type": "display_data"
    }
   ],
   "source": [
    "plot_grid(i, cmap='Reds')"
   ]
  },
  {
   "cell_type": "code",
   "execution_count": 34,
   "metadata": {},
   "outputs": [
    {
     "data": {
      "image/png": "[encoded data removed]",
      "text/plain": [
       "<Figure size 432x288 with 2 Axes>"
      ]
     },
     "metadata": {},
     "output_type": "display_data"
    }
   ],
   "source": [
    "plot_grid(j, cmap='Reds')"
   ]
  },
  {
   "cell_type": "code",
   "execution_count": 35,
   "metadata": {},
   "outputs": [
    {
     "data": {
      "image/png": "[encoded data removed]",
      "text/plain": [
       "<Figure size 432x288 with 2 Axes>"
      ]
     },
     "metadata": {},
     "output_type": "display_data"
    }
   ],
   "source": [
    "plot_grid(Dij)"
   ]
  },
  {
   "cell_type": "code",
   "execution_count": 36,
   "metadata": {},
   "outputs": [
    {
     "data": {
      "text/plain": [
       "array([[ 0,  0,  0, -1, -1, -1, -2, -2, -2, -3, -3, -3],\n",
       "       [ 0,  0,  0, -1, -1, -1, -2, -2, -2, -3, -3, -3],\n",
       "       [ 0,  0,  0, -1, -1, -1, -2, -2, -2, -3, -3, -3],\n",
       "       [ 1,  1,  1,  0,  0,  0, -1, -1, -1, -2, -2, -2],\n",
       "       [ 1,  1,  1,  0,  0,  0, -1, -1, -1, -2, -2, -2],\n",
       "       [ 1,  1,  1,  0,  0,  0, -1, -1, -1, -2, -2, -2],\n",
       "       [ 2,  2,  2,  1,  1,  1,  0,  0,  0, -1, -1, -1],\n",
       "       [ 2,  2,  2,  1,  1,  1,  0,  0,  0, -1, -1, -1],\n",
       "       [ 2,  2,  2,  1,  1,  1,  0,  0,  0, -1, -1, -1],\n",
       "       [ 3,  3,  3,  2,  2,  2,  1,  1,  1,  0,  0,  0],\n",
       "       [ 3,  3,  3,  2,  2,  2,  1,  1,  1,  0,  0,  0],\n",
       "       [ 3,  3,  3,  2,  2,  2,  1,  1,  1,  0,  0,  0]])"
      ]
     },
     "execution_count": 36,
     "metadata": {},
     "output_type": "execute_result"
    }
   ],
   "source": [
    "Dij"
   ]
  },
  {
   "cell_type": "code",
   "execution_count": 37,
   "metadata": {},
   "outputs": [],
   "source": [
    "diff_ij_grid = diff_i_j(Nx, Ny)"
   ]
  },
  {
   "cell_type": "code",
   "execution_count": 38,
   "metadata": {},
   "outputs": [
    {
     "data": {
      "image/png": "[encoded data removed]",
      "text/plain": [
       "<Figure size 432x288 with 2 Axes>"
      ]
     },
     "metadata": {},
     "output_type": "display_data"
    }
   ],
   "source": [
    "plot_grid(diff_ij_grid)"
   ]
  },
  {
   "cell_type": "code",
   "execution_count": 39,
   "metadata": {},
   "outputs": [],
   "source": [
    "Dkij_grid = Delta_kij(Nx, Ny, order='y')"
   ]
  },
  {
   "cell_type": "code",
   "execution_count": 40,
   "metadata": {},
   "outputs": [
    {
     "data": {
      "image/png": "[encoded data removed]",
      "text/plain": [
       "<Figure size 432x288 with 2 Axes>"
      ]
     },
     "metadata": {},
     "output_type": "display_data"
    }
   ],
   "source": [
    "plot_grid(Dkij_grid)"
   ]
  },
  {
   "cell_type": "code",
   "execution_count": 41,
   "metadata": {},
   "outputs": [
    {
     "data": {
      "text/plain": [
       "array([[ 0,  0,  0, -1, -1, -1, -2, -2, -2, -3, -3, -3],\n",
       "       [ 0,  0,  0, -1, -1, -1, -2, -2, -2, -3, -3, -3],\n",
       "       [ 0,  0,  0, -1, -1, -1, -2, -2, -2, -3, -3, -3],\n",
       "       [ 1,  1,  1,  0,  0,  0, -1, -1, -1, -2, -2, -2],\n",
       "       [ 1,  1,  1,  0,  0,  0, -1, -1, -1, -2, -2, -2],\n",
       "       [ 1,  1,  1,  0,  0,  0, -1, -1, -1, -2, -2, -2],\n",
       "       [ 2,  2,  2,  1,  1,  1,  0,  0,  0, -1, -1, -1],\n",
       "       [ 2,  2,  2,  1,  1,  1,  0,  0,  0, -1, -1, -1],\n",
       "       [ 2,  2,  2,  1,  1,  1,  0,  0,  0, -1, -1, -1],\n",
       "       [ 3,  3,  3,  2,  2,  2,  1,  1,  1,  0,  0,  0],\n",
       "       [ 3,  3,  3,  2,  2,  2,  1,  1,  1,  0,  0,  0],\n",
       "       [ 3,  3,  3,  2,  2,  2,  1,  1,  1,  0,  0,  0]])"
      ]
     },
     "execution_count": 41,
     "metadata": {},
     "output_type": "execute_result"
    }
   ],
   "source": [
    "Dkij_grid"
   ]
  },
  {
   "cell_type": "code",
   "execution_count": 42,
   "metadata": {},
   "outputs": [],
   "source": [
    "Dlij_grid = Delta_lij(Nx, Ny, order='y')"
   ]
  },
  {
   "cell_type": "code",
   "execution_count": 43,
   "metadata": {},
   "outputs": [
    {
     "data": {
      "image/png": "[encoded data removed]",
      "text/plain": [
       "<Figure size 432x288 with 2 Axes>"
      ]
     },
     "metadata": {},
     "output_type": "display_data"
    }
   ],
   "source": [
    "plot_grid(Dlij_grid)"
   ]
  },
  {
   "cell_type": "code",
   "execution_count": 44,
   "metadata": {},
   "outputs": [
    {
     "data": {
      "text/plain": [
       "array([[ 0, -1, -2,  0, -1, -2,  0, -1, -2,  0, -1, -2],\n",
       "       [ 1,  0, -1,  1,  0, -1,  1,  0, -1,  1,  0, -1],\n",
       "       [ 2,  1,  0,  2,  1,  0,  2,  1,  0,  2,  1,  0],\n",
       "       [ 0, -1, -2,  0, -1, -2,  0, -1, -2,  0, -1, -2],\n",
       "       [ 1,  0, -1,  1,  0, -1,  1,  0, -1,  1,  0, -1],\n",
       "       [ 2,  1,  0,  2,  1,  0,  2,  1,  0,  2,  1,  0],\n",
       "       [ 0, -1, -2,  0, -1, -2,  0, -1, -2,  0, -1, -2],\n",
       "       [ 1,  0, -1,  1,  0, -1,  1,  0, -1,  1,  0, -1],\n",
       "       [ 2,  1,  0,  2,  1,  0,  2,  1,  0,  2,  1,  0],\n",
       "       [ 0, -1, -2,  0, -1, -2,  0, -1, -2,  0, -1, -2],\n",
       "       [ 1,  0, -1,  1,  0, -1,  1,  0, -1,  1,  0, -1],\n",
       "       [ 2,  1,  0,  2,  1,  0,  2,  1,  0,  2,  1,  0]])"
      ]
     },
     "execution_count": 44,
     "metadata": {},
     "output_type": "execute_result"
    }
   ],
   "source": [
    "Dlij_grid"
   ]
  },
  {
   "cell_type": "code",
   "execution_count": 45,
   "metadata": {},
   "outputs": [],
   "source": [
    "R = np.sqrt((Dkij_grid*Dx)**2 + (Dlij_grid*Dy)**2 + (np.ones((Nx*Ny, Nx*Ny))*Dz)**2)"
   ]
  },
  {
   "cell_type": "code",
   "execution_count": 46,
   "metadata": {},
   "outputs": [
    {
     "data": {
      "image/png": "[encoded data removed]",
      "text/plain": [
       "<Figure size 432x288 with 2 Axes>"
      ]
     },
     "metadata": {},
     "output_type": "display_data"
    }
   ],
   "source": [
    "fig, ax = plt.subplots()\n",
    "cax = ax.matshow(R, cmap=plt.get_cmap('Reds'))\n",
    "cbar = fig.colorbar(cax)\n",
    "plt.show()"
   ]
  },
  {
   "cell_type": "code",
   "execution_count": 47,
   "metadata": {},
   "outputs": [],
   "source": [
    "A = Dz/(R**3)"
   ]
  },
  {
   "cell_type": "code",
   "execution_count": 48,
   "metadata": {},
   "outputs": [
    {
     "data": {
      "image/png": "[encoded data removed]",
      "text/plain": [
       "<Figure size 432x288 with 2 Axes>"
      ]
     },
     "metadata": {},
     "output_type": "display_data"
    }
   ],
   "source": [
    "fig, ax = plt.subplots()\n",
    "cax = ax.matshow(A, cmap=plt.get_cmap('Reds'))\n",
    "cbar = fig.colorbar(cax)\n",
    "plt.show()"
   ]
  },
  {
   "cell_type": "code",
   "execution_count": null,
   "metadata": {},
   "outputs": [],
   "source": []
  }
 ],
 "metadata": {
  "kernelspec": {
   "display_name": "Python 3",
   "language": "python",
   "name": "python3"
  },
  "language_info": {
   "codemirror_mode": {
    "name": "ipython",
    "version": 3
   },
   "file_extension": ".py",
   "mimetype": "text/x-python",
   "name": "python",
   "nbconvert_exporter": "python",
   "pygments_lexer": "ipython3",
   "version": "3.6.8"
  }
 },
 "nbformat": 4,
 "nbformat_minor": 2
}
