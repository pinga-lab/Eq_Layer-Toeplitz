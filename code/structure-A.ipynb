{
 "cells": [
  {
   "cell_type": "code",
   "execution_count": 1,
   "metadata": {},
   "outputs": [],
   "source": [
    "import numpy as np\n",
    "import matplotlib.pyplot as plt\n",
    "import matplotlib.ticker as tck"
   ]
  },
  {
   "cell_type": "code",
   "execution_count": 2,
   "metadata": {},
   "outputs": [],
   "source": [
    "def i2kl_col(i, N):\n",
    "    i = np.asarray(i)\n",
    "    assert i.dtype.kind is 'i', 'i must be integer'\n",
    "    assert isinstance(N, int), 'N must be integer'\n",
    "    l = np.ceil(i/N).astype(int)\n",
    "    k = i - (l - 1)*N\n",
    "    return k, l\n",
    "\n",
    "def kl2i_col(k, l, N):\n",
    "    k = np.asarray(k)\n",
    "    l = np.asarray(l)\n",
    "    assert k.dtype.kind is 'i', 'k must be integer'\n",
    "    assert l.dtype.kind is 'i', 'l must be integer'\n",
    "    assert isinstance(N, int), 'N must be integer'\n",
    "    i = (l - 1)*N + k\n",
    "    return i"
   ]
  },
  {
   "cell_type": "code",
   "execution_count": 3,
   "metadata": {},
   "outputs": [],
   "source": [
    "def i2kl_row(i, N):\n",
    "    i = np.asarray(i)\n",
    "    assert i.dtype.kind is 'i', 'i must be integer'\n",
    "    assert isinstance(N, int), 'N must be integer'\n",
    "    k = np.ceil(i/N).astype(int)\n",
    "    l = i - (k - 1)*N\n",
    "    return k, l\n",
    "\n",
    "def kl2i_row(k, l, N):\n",
    "    k = np.asarray(k)\n",
    "    l = np.asarray(l)\n",
    "    assert k.dtype.kind is 'i', 'k must be integer'\n",
    "    assert l.dtype.kind is 'i', 'l must be integer'\n",
    "    assert isinstance(N, int), 'N must be integer'\n",
    "    i = (k - 1)*N + l\n",
    "    return i"
   ]
  },
  {
   "cell_type": "code",
   "execution_count": 4,
   "metadata": {},
   "outputs": [],
   "source": [
    "def Delta_ij(Nx, Ny, order='col'):\n",
    "    assert isinstance(Nx, int), 'Nx must be integer'\n",
    "    assert isinstance(Ny, int), 'Ny must be integer'\n",
    "    assert (Nx > 0) and (Ny > 0), 'Nx and Ny must be positive'\n",
    "    assert order in ['col', 'row'], 'order must be \"col\" or \"row\"'\n",
    "\n",
    "    j, i = np.meshgrid(np.arange(1, Nx*Ny+1), \n",
    "                   np.arange(1, Nx*Ny+1))\n",
    "\n",
    "    if order == 'col':\n",
    "        Dij = np.ceil(i/Nx) - np.ceil(j/Nx)\n",
    "    else:\n",
    "        Dij = np.ceil(i/Ny) - np.ceil(j/Ny)\n",
    "\n",
    "    return i, j, Dij.astype(int)"
   ]
  },
  {
   "cell_type": "code",
   "execution_count": 5,
   "metadata": {},
   "outputs": [],
   "source": [
    "def alphaij(Nx, Ny, order='col'):\n",
    "    assert isinstance(Nx, int), 'Nx must be integer'\n",
    "    assert isinstance(Ny, int), 'Ny must be integer'\n",
    "    assert (Nx > 0) and (Ny > 0), 'Nx and Ny must be positive'\n",
    "    assert order in ['col', 'row'], 'order must be \"col\" or \"row\"'\n",
    "\n",
    "    i, j, Dij = Delta_ij(Nx=Nx, Ny=Ny, order=order)\n",
    "\n",
    "    if order == 'col':\n",
    "        result = i - j - Dij*Nx\n",
    "    else:\n",
    "        result = Dij\n",
    "\n",
    "    return result"
   ]
  },
  {
   "cell_type": "code",
   "execution_count": 6,
   "metadata": {},
   "outputs": [],
   "source": [
    "def betaij(Nx, Ny, order='col'):\n",
    "    assert isinstance(Nx, int), 'Nx must be integer'\n",
    "    assert isinstance(Ny, int), 'Ny must be integer'\n",
    "    assert (Nx > 0) and (Ny > 0), 'Nx and Ny must be positive'\n",
    "    assert order in ['col', 'row'], 'order must be \"col\" or \"row\"'\n",
    "\n",
    "    i, j, Dij = Delta_ij(Nx=Nx, Ny=Ny, order=order)\n",
    "\n",
    "    if order == 'col':\n",
    "        result = Dij\n",
    "    else:\n",
    "        result = i - j - Dij*Ny\n",
    "\n",
    "    return result"
   ]
  },
  {
   "cell_type": "code",
   "execution_count": 7,
   "metadata": {},
   "outputs": [],
   "source": [
    "def indexed_grid(Nx, Ny, cmap='viridis'):\n",
    "    \n",
    "    assert isinstance(Nx, int), 'Nx must be integer'\n",
    "    assert isinstance(Ny, int), 'Ny must be integer'\n",
    "    \n",
    "    fig, axs = plt.subplots(nrows=1, ncols=2, figsize=(12, 6))\n",
    "    \n",
    "    fig.subplots_adjust(left=0.03, right=0.97, hspace=0.5, wspace=0.5)\n",
    "\n",
    "    data = np.arange(1, Nx*Ny + 1)\n",
    "    \n",
    "    data_col = data.reshape((Ny, Nx)).T[::-1]\n",
    "    data_row = data.reshape((Nx, Ny))[::-1]\n",
    "\n",
    "    k = np.arange(1, Nx+1)[::-1]\n",
    "    l = np.arange(1, Ny+1)\n",
    "\n",
    "    for d, ax in zip([data_col, data_row], axs.flat):\n",
    "\n",
    "        # Plot the grid as a colormap\n",
    "        im = ax.imshow(d, cmap=cmap)\n",
    "\n",
    "        # Set the formatter\n",
    "        valfmt = tck.StrMethodFormatter(\"{x:3d}\")\n",
    "\n",
    "        # Loop over the data and create a `Text` for each \"pixel\".\n",
    "        for i in range(d.shape[0]):\n",
    "            for j in range(d.shape[1]):\n",
    "                im.axes.text(j, i, valfmt(d[i, j], None), color='k', fontsize=14, \n",
    "                             horizontalalignment=\"center\", verticalalignment=\"center\")\n",
    "\n",
    "        # set the ticks\n",
    "        ax.set_xticks(np.arange(d.shape[1]))\n",
    "        ax.set_yticks(np.arange(d.shape[0]))\n",
    "\n",
    "        # Set the labels\n",
    "        ax.set_xticklabels(l, fontsize=12)\n",
    "        ax.set_yticklabels(k, fontsize=12)\n",
    "        ax.set_xlabel('index l', fontsize=16)\n",
    "        ax.set_ylabel('index k', fontsize=16)\n",
    "\n",
    "        ax.set_xticks(np.arange(d.shape[1]+1)-.5, minor=True)\n",
    "        ax.set_yticks(np.arange(d.shape[0]+1)-.5, minor=True)\n",
    "        ax.tick_params(which=\"minor\", bottom=False, left=False)\n",
    "        ax.grid(which=\"minor\", color=\"k\", linestyle='-', linewidth=3)\n",
    "\n",
    "    fig.tight_layout()\n",
    "    plt.show()"
   ]
  },
  {
   "cell_type": "code",
   "execution_count": 8,
   "metadata": {},
   "outputs": [],
   "source": [
    "def plot_grid(data, cmap='seismic'):\n",
    "    bounds = np.array([i for i in np.arange(np.min(data)-0.5, np.max(data)+1.5, 1)])\n",
    "    ticks_place = bounds+0.5\n",
    "    fig, ax = plt.subplots()\n",
    "    cax = ax.matshow(data, cmap=plt.get_cmap(cmap))\n",
    "    cbar = fig.colorbar(cax, boundaries=bounds, ticks=ticks_place)\n",
    "    plt.show()"
   ]
  },
  {
   "cell_type": "markdown",
   "metadata": {},
   "source": [
    "## Examples of indexed grid"
   ]
  },
  {
   "cell_type": "markdown",
   "metadata": {},
   "source": [
    "Consider a regular grid of $N_{x} \\times N_{y}$ observation points $(x_{i}, y_{i}, z_{i})$, $i = 1, \\dots, N = N_{x} \\, N_{y}$. The indices $i$ may be defined along the $x$- or $y$-axis, according to the Figure A1."
   ]
  },
  {
   "cell_type": "code",
   "execution_count": 9,
   "metadata": {},
   "outputs": [],
   "source": [
    "Nx = 4\n",
    "Ny = 3"
   ]
  },
  {
   "cell_type": "code",
   "execution_count": 10,
   "metadata": {},
   "outputs": [
    {
     "data": {
      "image/png": "[encoded data removed]",
      "text/plain": [
       "<Figure size 864x432 with 2 Axes>"
      ]
     },
     "metadata": {},
     "output_type": "display_data"
    }
   ],
   "source": [
    "indexed_grid(Nx, Ny, cmap='Blues')"
   ]
  },
  {
   "cell_type": "markdown",
   "metadata": {},
   "source": [
    "<a id='fig1'></a>\n",
    "\n",
    "**Figure A1:** Schematic representation of two regular grids of $N_{x} \\times N_{y}$ observation points $(x_{i}, y_{i})$, $i = 1, \\dots, N = N_{x} \\, N_{y}$, with $N_{x} = 4$ and $N_{y} = 3$. These coordinates are conveniently called observation coordinates. The grid indices $k$ and $l$ define the grid coordinates $x_{k}$ and $y_{l}$, respectively. The numbers inside the colored squares represent the observation index $i$. The left panel shows an $x$-oriented grid. The right panel shows an $y$-oriented grid. For both grids, the point $(x_{1}, y_{1})$ is located at the lower-left corner."
   ]
  },
  {
   "cell_type": "markdown",
   "metadata": {},
   "source": [
    "## Structure of matrix $\\mathbf{A}$"
   ]
  },
  {
   "cell_type": "markdown",
   "metadata": {},
   "source": [
    "Let us consider that $z_{i} = z_{1}$, $\\forall \\, i$, where $z_{1} < z_{0}$. As a consequence, the elements $a_{ij}$ of matrix $\\mathbf{A}$ may be conveniently rewritten as follows:"
   ]
  },
  {
   "cell_type": "markdown",
   "metadata": {},
   "source": [
    "<a id='aij-Dz'></a>\n",
    "\n",
    "$$\n",
    "a_{ij} = c_{g} \\, G \\, \\Delta z \\, \\frac{1}{\\left[ \\left( x_{i} - x_{j} \\right)^{2} + \\left( y_{i} - y_{j} \\right)^{2} + \\Delta z^{2} \\right]^{\\frac{3}{2}}} \\: , \\tag{A1}\n",
    "$$"
   ]
  },
  {
   "cell_type": "markdown",
   "metadata": {},
   "source": [
    "where $\\Delta z = z_{0} - z_{1}$. "
   ]
  },
  {
   "cell_type": "markdown",
   "metadata": {},
   "source": [
    "It is evident from [equation A1](#aij-Dz) that $r_{ij} = r_{ji}$ and that, consequently, matrix $\\mathbf{A}$ is symmetric. Another less-evident property is that $\\mathbf{A}$ is formed by blocks and each block is a symmetric Toeplitz matrix. This kind of matrix is commonly called Block-Toeplitz Toeplitz-Block, or simply BTTB. To show this well-defined structure, it is useful to rewrite $a_{ij}$ ([equation A1](#aij-Dz)) in terms of the following *grid coordinates*:"
   ]
  },
  {
   "cell_type": "markdown",
   "metadata": {},
   "source": [
    "<a id='xk'></a>\n",
    "\n",
    "$$\n",
    "x_{k} = x_{1} + (k - 1) \\, \\Delta x \\: , \\quad k = 1, \\dots, Nx_{x} \\: , \\tag{A2}\n",
    "$$"
   ]
  },
  {
   "cell_type": "markdown",
   "metadata": {},
   "source": [
    "and"
   ]
  },
  {
   "cell_type": "markdown",
   "metadata": {},
   "source": [
    "<a id='yl'></a>\n",
    "\n",
    "$$\n",
    "y_{l} = y_{1} + (l - 1) \\, \\Delta y \\: , \\quad l = 1, \\dots, N_{y} \\: . \\tag{A3}\n",
    "$$ "
   ]
  },
  {
   "cell_type": "markdown",
   "metadata": {},
   "source": [
    "The elements $a_{ij}$ ([equation A1](#aij-Dz)) are defined in terms of the coordinates $(x_{i}, y_{i})$ and $(x_{j}, y_{j})$ associated with to the observation points and the equivalent sources, respectively. For convenience, we call these coordinates as *observation coordinates*. To define $a_{ij}$ in terms of $x_{k}$ ([equation A2](#xk)) and $y_{l}$ ([equation A3](#yl)), we need first define the relationship between the *observation indices* $i$ and $j$ and the *grid indices* $k$ and $l$. Here, we investigate two possible situations shown in [Figure A1](#fig1): $x$-oriented grids and $y$-oriented grids."
   ]
  },
  {
   "cell_type": "markdown",
   "metadata": {},
   "source": [
    "## Coordinates and indices for $x$-oriented grids"
   ]
  },
  {
   "cell_type": "markdown",
   "metadata": {},
   "source": [
    "From [Figure A1](#fig1) (left panel), we can see that"
   ]
  },
  {
   "cell_type": "markdown",
   "metadata": {},
   "source": [
    "<a id='kl2i-column-oriented'></a>\n",
    "\n",
    "$$\n",
    "i = (l - 1) \\, N_{x} + k \\quad , \\tag{A4}\n",
    "$$"
   ]
  },
  {
   "cell_type": "markdown",
   "metadata": {},
   "source": [
    "<a id='i2l-column-oriented'></a>\n",
    "\n",
    "$$\n",
    "l = \\Bigg\\lceil \\frac{i}{N_{x}} \\Bigg\\rceil \\tag{A5}\n",
    "$$"
   ]
  },
  {
   "cell_type": "markdown",
   "metadata": {},
   "source": [
    "and, consequently,"
   ]
  },
  {
   "cell_type": "markdown",
   "metadata": {},
   "source": [
    "<a id='i2k-column-oriented'></a>\n",
    "\n",
    "$$\n",
    "k = i - \\Bigg\\lceil \\frac{i}{N_{x}} \\Bigg\\rceil N_{x} - N_{x} \\quad , \\tag{A6}\n",
    "$$"
   ]
  },
  {
   "cell_type": "markdown",
   "metadata": {},
   "source": [
    "where $\\lceil \\cdot \\rceil$ represents the *ceiling function* (Graham et al., 1994, p. 67). Equations [A4](#kl2i-column-oriented), [A5](#i2l-column-oriented) and [A6](#i2k-column-oriented) show that, for an observation index $i$, there is a unique pair of grid indices $(k, l)$ and vice versa. The same equations can be used for the index $j$ instead of $i$."
   ]
  },
  {
   "cell_type": "markdown",
   "metadata": {},
   "source": [
    "By substituting the grid indices $l$ ([equation A5](#i2l-column-oriented)) and $k$ ([equation A6](#i2k-column-oriented)) into the grid coordinates $x_{k}$ ([equation A2](#xk)) and $y_{l}$ ([equation A3](#yl)), we convert them into observation coordinates $x_{i}$ and $y_{i}$ (or $x_{j}$ and $y_{j}$), as follows:"
   ]
  },
  {
   "cell_type": "markdown",
   "metadata": {},
   "source": [
    "<a id='xi-column-oriented'></a>\n",
    "\n",
    "$$\n",
    "x_{i} = x_{1} + \\left( i - \\Bigg\\lceil \\frac{i}{N_{x}} \\Bigg\\rceil N_{x} - N_{x} - 1 \\right) \\Delta x \\tag{A7}\n",
    "$$"
   ]
  },
  {
   "cell_type": "markdown",
   "metadata": {},
   "source": [
    "and"
   ]
  },
  {
   "cell_type": "markdown",
   "metadata": {},
   "source": [
    "<a id='yi-column-oriented'></a>\n",
    "\n",
    "$$\n",
    "y_{i} = y_{1} + \\left( \\Bigg\\lceil \\frac{i}{N_{x}} \\Bigg\\rceil - 1 \\right) \\Delta y \\quad . \\tag{A8}\n",
    "$$"
   ]
  },
  {
   "cell_type": "markdown",
   "metadata": {},
   "source": [
    "## Coordinates and indices for $y$-oriented grids"
   ]
  },
  {
   "cell_type": "markdown",
   "metadata": {},
   "source": [
    "From [Figure A1](#fig1) (right panel), we can see that the relationships between the observation index $i$ (or $j$) and the grid indices $k$ and $l$ are given by:"
   ]
  },
  {
   "cell_type": "markdown",
   "metadata": {},
   "source": [
    "<a id='kl2i-row-oriented'></a>\n",
    "\n",
    "$$\n",
    "i = (k - 1) \\, N_{y} + l \\quad , \\tag{A9}\n",
    "$$"
   ]
  },
  {
   "cell_type": "markdown",
   "metadata": {},
   "source": [
    "<a id='i2k-row-oriented'></a>\n",
    "\n",
    "$$\n",
    "k = \\Bigg\\lceil \\frac{i}{N_{y}} \\Bigg\\rceil \\tag{A10}\n",
    "$$"
   ]
  },
  {
   "cell_type": "markdown",
   "metadata": {},
   "source": [
    "and, consequently,"
   ]
  },
  {
   "cell_type": "markdown",
   "metadata": {},
   "source": [
    "<a id='i2l-row-oriented'></a>\n",
    "\n",
    "$$\n",
    "l = i - \\Bigg\\lceil \\frac{i}{N_{y}} \\Bigg\\rceil N_{x} - N_{x} \\quad . \\tag{A11}\n",
    "$$"
   ]
  },
  {
   "cell_type": "markdown",
   "metadata": {},
   "source": [
    "By substituting these grid indices (equations [A10](#i2k-row-oriented) and [A11](#i2l-row-oriented)) into the grid coordinates $x_{k}$ ([equation A2](#xk)) and $y_{l}$ ([equation A3](#yl)), we obtain the following expressions for the observation coordinates $x_{i}$ and $y_{i}$ (or $x_{j}$ and $y_{j}$):"
   ]
  },
  {
   "cell_type": "markdown",
   "metadata": {},
   "source": [
    "<a id='xi-row-oriented'></a>\n",
    "\n",
    "$$\n",
    "x_{i} = x_{1} + \\left( \\Bigg\\lceil \\frac{i}{N_{y}} \\Bigg\\rceil - 1 \\right) \\Delta x \\tag{A12}\n",
    "$$"
   ]
  },
  {
   "cell_type": "markdown",
   "metadata": {},
   "source": [
    "and"
   ]
  },
  {
   "cell_type": "markdown",
   "metadata": {},
   "source": [
    "<a id='yi-row-oriented'></a>\n",
    "\n",
    "$$\n",
    "y_{i} = y_{1} + \\left( i - \\Bigg\\lceil \\frac{i}{N_{y}} \\Bigg\\rceil N_{y} - N_{y} - 1 \\right) \\Delta y \\quad . \\tag{A13}\n",
    "$$"
   ]
  },
  {
   "cell_type": "markdown",
   "metadata": {},
   "source": [
    "## $a_{ij}$ for $x$- and $y$-oriented grids"
   ]
  },
  {
   "cell_type": "markdown",
   "metadata": {},
   "source": [
    "To write $a_{ij}$ ([equation A1](#aij-Dz)) in terms of the grid coordinates $x_{k}$ ([equation A2](#xk)) and $y_{l}$ ([equation A3](#yl)), let's first use equations [A7](#xi-column-oriented) and [A8](#yi-column-oriented) to compute the differences $(x_{i} - x_{j})$ and $(y_{i} - y_{j})$ for $x$-oriented grids,"
   ]
  },
  {
   "cell_type": "markdown",
   "metadata": {},
   "source": [
    "<a id='xi-xj-column-oriented'></a>\n",
    "\n",
    "$$\n",
    "x_{i} - x_{j} = \\alpha_{ij}^{(x)} \\, \\Delta x \\quad , \\tag{A14}\n",
    "$$"
   ]
  },
  {
   "cell_type": "markdown",
   "metadata": {},
   "source": [
    "<a id='yi-yj-column-oriented'></a>\n",
    "\n",
    "$$\n",
    "y_{i} - y_{j} = \\beta_{ij}^{(x)} \\, \\Delta y \\tag{A15}\n",
    "$$"
   ]
  },
  {
   "cell_type": "markdown",
   "metadata": {},
   "source": [
    "and use equations [A12](#xi-row-oriented) and [A13](#yi-row-oriented) to compute the differences $(x_{i} - x_{j})$ and $(y_{i} - y_{j})$ for $y$-oriented grids,"
   ]
  },
  {
   "cell_type": "markdown",
   "metadata": {},
   "source": [
    "<a id='xi-xj-row-oriented'></a>\n",
    "\n",
    "$$\n",
    "x_{i} - x_{j} = \\alpha_{ij}^{(y)} \\Delta x \\quad , \\tag{A16}\n",
    "$$"
   ]
  },
  {
   "cell_type": "markdown",
   "metadata": {},
   "source": [
    "<a id='yi-yj-row-oriented'></a>\n",
    "\n",
    "$$\n",
    "y_{i} - y_{j} = \\beta_{ij}^{(y)} \\, \\Delta y \\quad , \\tag{A17}\n",
    "$$"
   ]
  },
  {
   "cell_type": "markdown",
   "metadata": {},
   "source": [
    "where"
   ]
  },
  {
   "cell_type": "markdown",
   "metadata": {},
   "source": [
    "<a id='alphaij-column-oriented'></a>\n",
    "\n",
    "$$\n",
    "\\alpha_{ij}^{(x)} = (i - j) - \\Delta_{ij}^{(x)} \\, N_{x} \\quad , \\tag{A18}\n",
    "$$"
   ]
  },
  {
   "cell_type": "markdown",
   "metadata": {},
   "source": [
    "<a id='betaij-column-oriented'></a>\n",
    "\n",
    "$$\n",
    "\\beta_{ij}^{(x)} = \\Delta_{ij}^{(x)} \\quad , \\tag{A19}\n",
    "$$"
   ]
  },
  {
   "cell_type": "markdown",
   "metadata": {},
   "source": [
    "<a id='alphaij-row-oriented'></a>\n",
    "\n",
    "$$\n",
    "\\alpha_{ij}^{(y)} = \\Delta_{ij}^{(y)} \\quad , \\tag{A20}\n",
    "$$"
   ]
  },
  {
   "cell_type": "markdown",
   "metadata": {},
   "source": [
    "<a id='betaij-row-oriented'></a>\n",
    "\n",
    "$$\n",
    "\\beta_{ij}^{(y)} = (i - j) - \\Delta_{ij}^{(y)} \\, N_{y} \\quad , \\tag{A21}\n",
    "$$"
   ]
  },
  {
   "cell_type": "markdown",
   "metadata": {},
   "source": [
    "<a id='Dij-column-oriented'></a>\n",
    "\n",
    "$$\n",
    "\\Delta_{ij}^{(x)} = \\Bigg\\lceil \\frac{i}{N_{x}} \\Bigg\\rceil - \\Bigg\\lceil \\frac{j}{N_{x}} \\Bigg\\rceil \\tag{A22}\n",
    "$$"
   ]
  },
  {
   "cell_type": "markdown",
   "metadata": {},
   "source": [
    "and"
   ]
  },
  {
   "cell_type": "markdown",
   "metadata": {},
   "source": [
    "<a id='Dij-row-oriented'></a>\n",
    "\n",
    "$$\n",
    "\\Delta_{ij}^{(y)} = \\Bigg\\lceil \\frac{i}{N_{y}} \\Bigg\\rceil - \\Bigg\\lceil \\frac{j}{N_{y}} \\Bigg\\rceil \\quad . \\tag{A23}\n",
    "$$"
   ]
  },
  {
   "cell_type": "markdown",
   "metadata": {},
   "source": [
    "Now, we can define the elements $a_{ij} \\equiv a_{ij}^{(x)}$ for column-oriented grids as follows:"
   ]
  },
  {
   "cell_type": "markdown",
   "metadata": {},
   "source": [
    "<a id='aij-column-oriented'></a>\n",
    "\n",
    "$$\n",
    "a_{ij}^{(x)} = c_{g} \\, G \\, \\Delta z \\, \\frac{1}{\\left[ (\\alpha_{ij}^{(x)} \\, \\Delta x)^{2} + (\\beta_{ij}^{(x)} \\, \\Delta y)^{2} + \\Delta z^{2} \\right]^{\\frac{3}{2}}} \\: . \\tag{A25}\n",
    "$$"
   ]
  },
  {
   "cell_type": "markdown",
   "metadata": {},
   "source": [
    "Similarly, the elements $a_{ij} \\equiv a_{ij}^{(y)}$ for row-oriented grids are given by:"
   ]
  },
  {
   "cell_type": "markdown",
   "metadata": {},
   "source": [
    "<a id='aij-row-oriented'></a>\n",
    "\n",
    "$$\n",
    "a_{ij}^{(y)} = c_{g} \\, G \\, \\Delta z \\, \\frac{1}{\\left[ (\\alpha_{ij}^{(y)} \\, \\Delta x)^{2} + (\\beta_{ij}^{(y)} \\, \\Delta y)^{2} + \\Delta z^{2} \\right]^{\\frac{3}{2}}} \\: . \\tag{A26}\n",
    "$$"
   ]
  },
  {
   "cell_type": "markdown",
   "metadata": {},
   "source": [
    "## Analysis of the elements $a_{ij}^{(x)}$ and $a_{ij}^{(y)}$"
   ]
  },
  {
   "cell_type": "markdown",
   "metadata": {},
   "source": [
    "The structure of matrix $\\mathbf{A}$ depends on the elements $a_{ij}^{(\\eta)}$, $\\eta = x, y$ (equations [A25](#aij-column-oriented) and [A26](#aij-row-oriented)), which in turn depends on the coefficients "
   ]
  },
  {
   "cell_type": "markdown",
   "metadata": {},
   "source": [
    "## Generate synthetic data"
   ]
  },
  {
   "cell_type": "code",
   "execution_count": 11,
   "metadata": {},
   "outputs": [],
   "source": [
    "Nx = 4\n",
    "Ny = 3"
   ]
  },
  {
   "cell_type": "code",
   "execution_count": 12,
   "metadata": {},
   "outputs": [],
   "source": [
    "Dx = 1\n",
    "Dy = 1"
   ]
  },
  {
   "cell_type": "code",
   "execution_count": 13,
   "metadata": {},
   "outputs": [],
   "source": [
    "Dz = 1"
   ]
  },
  {
   "cell_type": "markdown",
   "metadata": {},
   "source": [
    "#### Plot the simulated column-oriented grids"
   ]
  },
  {
   "cell_type": "code",
   "execution_count": 14,
   "metadata": {},
   "outputs": [],
   "source": [
    "i, j, Dij = Delta_ij(Nx, Ny, order='col')"
   ]
  },
  {
   "cell_type": "code",
   "execution_count": 15,
   "metadata": {},
   "outputs": [
    {
     "data": {
      "image/png": "[encoded data removed]",
      "text/plain": [
       "<Figure size 432x288 with 2 Axes>"
      ]
     },
     "metadata": {},
     "output_type": "display_data"
    }
   ],
   "source": [
    "plot_grid(Dij)"
   ]
  },
  {
   "cell_type": "code",
   "execution_count": 16,
   "metadata": {},
   "outputs": [
    {
     "data": {
      "text/plain": [
       "array([[ 0,  0,  0,  0, -1, -1, -1, -1, -2, -2, -2, -2],\n",
       "       [ 0,  0,  0,  0, -1, -1, -1, -1, -2, -2, -2, -2],\n",
       "       [ 0,  0,  0,  0, -1, -1, -1, -1, -2, -2, -2, -2],\n",
       "       [ 0,  0,  0,  0, -1, -1, -1, -1, -2, -2, -2, -2],\n",
       "       [ 1,  1,  1,  1,  0,  0,  0,  0, -1, -1, -1, -1],\n",
       "       [ 1,  1,  1,  1,  0,  0,  0,  0, -1, -1, -1, -1],\n",
       "       [ 1,  1,  1,  1,  0,  0,  0,  0, -1, -1, -1, -1],\n",
       "       [ 1,  1,  1,  1,  0,  0,  0,  0, -1, -1, -1, -1],\n",
       "       [ 2,  2,  2,  2,  1,  1,  1,  1,  0,  0,  0,  0],\n",
       "       [ 2,  2,  2,  2,  1,  1,  1,  1,  0,  0,  0,  0],\n",
       "       [ 2,  2,  2,  2,  1,  1,  1,  1,  0,  0,  0,  0],\n",
       "       [ 2,  2,  2,  2,  1,  1,  1,  1,  0,  0,  0,  0]])"
      ]
     },
     "execution_count": 16,
     "metadata": {},
     "output_type": "execute_result"
    }
   ],
   "source": [
    "Dij"
   ]
  },
  {
   "cell_type": "code",
   "execution_count": 17,
   "metadata": {},
   "outputs": [],
   "source": [
    "alpha_grid = alphaij(Nx, Ny, order='col')"
   ]
  },
  {
   "cell_type": "code",
   "execution_count": 18,
   "metadata": {},
   "outputs": [
    {
     "data": {
      "image/png": "[encoded data removed]",
      "text/plain": [
       "<Figure size 432x288 with 2 Axes>"
      ]
     },
     "metadata": {},
     "output_type": "display_data"
    }
   ],
   "source": [
    "plot_grid(alpha_grid)"
   ]
  },
  {
   "cell_type": "code",
   "execution_count": 19,
   "metadata": {},
   "outputs": [
    {
     "data": {
      "text/plain": [
       "array([[ 0, -1, -2, -3,  0, -1, -2, -3,  0, -1, -2, -3],\n",
       "       [ 1,  0, -1, -2,  1,  0, -1, -2,  1,  0, -1, -2],\n",
       "       [ 2,  1,  0, -1,  2,  1,  0, -1,  2,  1,  0, -1],\n",
       "       [ 3,  2,  1,  0,  3,  2,  1,  0,  3,  2,  1,  0],\n",
       "       [ 0, -1, -2, -3,  0, -1, -2, -3,  0, -1, -2, -3],\n",
       "       [ 1,  0, -1, -2,  1,  0, -1, -2,  1,  0, -1, -2],\n",
       "       [ 2,  1,  0, -1,  2,  1,  0, -1,  2,  1,  0, -1],\n",
       "       [ 3,  2,  1,  0,  3,  2,  1,  0,  3,  2,  1,  0],\n",
       "       [ 0, -1, -2, -3,  0, -1, -2, -3,  0, -1, -2, -3],\n",
       "       [ 1,  0, -1, -2,  1,  0, -1, -2,  1,  0, -1, -2],\n",
       "       [ 2,  1,  0, -1,  2,  1,  0, -1,  2,  1,  0, -1],\n",
       "       [ 3,  2,  1,  0,  3,  2,  1,  0,  3,  2,  1,  0]])"
      ]
     },
     "execution_count": 19,
     "metadata": {},
     "output_type": "execute_result"
    }
   ],
   "source": [
    "alpha_grid"
   ]
  },
  {
   "cell_type": "code",
   "execution_count": 20,
   "metadata": {},
   "outputs": [],
   "source": [
    "beta_grid = betaij(Nx, Ny, order='col')"
   ]
  },
  {
   "cell_type": "code",
   "execution_count": 21,
   "metadata": {},
   "outputs": [
    {
     "data": {
      "image/png": "[encoded data removed]",
      "text/plain": [
       "<Figure size 432x288 with 2 Axes>"
      ]
     },
     "metadata": {},
     "output_type": "display_data"
    }
   ],
   "source": [
    "plot_grid(beta_grid)"
   ]
  },
  {
   "cell_type": "code",
   "execution_count": 22,
   "metadata": {},
   "outputs": [
    {
     "data": {
      "text/plain": [
       "array([[ 0,  0,  0,  0, -1, -1, -1, -1, -2, -2, -2, -2],\n",
       "       [ 0,  0,  0,  0, -1, -1, -1, -1, -2, -2, -2, -2],\n",
       "       [ 0,  0,  0,  0, -1, -1, -1, -1, -2, -2, -2, -2],\n",
       "       [ 0,  0,  0,  0, -1, -1, -1, -1, -2, -2, -2, -2],\n",
       "       [ 1,  1,  1,  1,  0,  0,  0,  0, -1, -1, -1, -1],\n",
       "       [ 1,  1,  1,  1,  0,  0,  0,  0, -1, -1, -1, -1],\n",
       "       [ 1,  1,  1,  1,  0,  0,  0,  0, -1, -1, -1, -1],\n",
       "       [ 1,  1,  1,  1,  0,  0,  0,  0, -1, -1, -1, -1],\n",
       "       [ 2,  2,  2,  2,  1,  1,  1,  1,  0,  0,  0,  0],\n",
       "       [ 2,  2,  2,  2,  1,  1,  1,  1,  0,  0,  0,  0],\n",
       "       [ 2,  2,  2,  2,  1,  1,  1,  1,  0,  0,  0,  0],\n",
       "       [ 2,  2,  2,  2,  1,  1,  1,  1,  0,  0,  0,  0]])"
      ]
     },
     "execution_count": 22,
     "metadata": {},
     "output_type": "execute_result"
    }
   ],
   "source": [
    "beta_grid"
   ]
  },
  {
   "cell_type": "code",
   "execution_count": 23,
   "metadata": {},
   "outputs": [],
   "source": [
    "R = np.sqrt((alpha_grid*Dx)**2 + (beta_grid*Dy)**2 + (np.ones((Nx*Ny, Nx*Ny))*Dz)**2)"
   ]
  },
  {
   "cell_type": "code",
   "execution_count": 24,
   "metadata": {},
   "outputs": [
    {
     "data": {
      "image/png": "[encoded data removed]",
      "text/plain": [
       "<Figure size 432x288 with 2 Axes>"
      ]
     },
     "metadata": {},
     "output_type": "display_data"
    }
   ],
   "source": [
    "plot_grid(R, cmap='viridis')"
   ]
  },
  {
   "cell_type": "markdown",
   "metadata": {},
   "source": [
    "#### Plot the simulated row-oriented grids"
   ]
  },
  {
   "cell_type": "code",
   "execution_count": 25,
   "metadata": {},
   "outputs": [],
   "source": [
    "i, j, Dij = Delta_ij(Nx, Ny, order='row')"
   ]
  },
  {
   "cell_type": "code",
   "execution_count": 26,
   "metadata": {},
   "outputs": [
    {
     "data": {
      "image/png": "[encoded data removed]",
      "text/plain": [
       "<Figure size 432x288 with 2 Axes>"
      ]
     },
     "metadata": {},
     "output_type": "display_data"
    }
   ],
   "source": [
    "plot_grid(Dij)"
   ]
  },
  {
   "cell_type": "code",
   "execution_count": 27,
   "metadata": {},
   "outputs": [
    {
     "data": {
      "text/plain": [
       "array([[ 0,  0,  0, -1, -1, -1, -2, -2, -2, -3, -3, -3],\n",
       "       [ 0,  0,  0, -1, -1, -1, -2, -2, -2, -3, -3, -3],\n",
       "       [ 0,  0,  0, -1, -1, -1, -2, -2, -2, -3, -3, -3],\n",
       "       [ 1,  1,  1,  0,  0,  0, -1, -1, -1, -2, -2, -2],\n",
       "       [ 1,  1,  1,  0,  0,  0, -1, -1, -1, -2, -2, -2],\n",
       "       [ 1,  1,  1,  0,  0,  0, -1, -1, -1, -2, -2, -2],\n",
       "       [ 2,  2,  2,  1,  1,  1,  0,  0,  0, -1, -1, -1],\n",
       "       [ 2,  2,  2,  1,  1,  1,  0,  0,  0, -1, -1, -1],\n",
       "       [ 2,  2,  2,  1,  1,  1,  0,  0,  0, -1, -1, -1],\n",
       "       [ 3,  3,  3,  2,  2,  2,  1,  1,  1,  0,  0,  0],\n",
       "       [ 3,  3,  3,  2,  2,  2,  1,  1,  1,  0,  0,  0],\n",
       "       [ 3,  3,  3,  2,  2,  2,  1,  1,  1,  0,  0,  0]])"
      ]
     },
     "execution_count": 27,
     "metadata": {},
     "output_type": "execute_result"
    }
   ],
   "source": [
    "Dij"
   ]
  },
  {
   "cell_type": "code",
   "execution_count": 28,
   "metadata": {},
   "outputs": [],
   "source": [
    "alpha_grid = alphaij(Nx, Ny, order='row')"
   ]
  },
  {
   "cell_type": "code",
   "execution_count": 29,
   "metadata": {},
   "outputs": [
    {
     "data": {
      "image/png": "[encoded data removed]",
      "text/plain": [
       "<Figure size 432x288 with 2 Axes>"
      ]
     },
     "metadata": {},
     "output_type": "display_data"
    }
   ],
   "source": [
    "plot_grid(alpha_grid)"
   ]
  },
  {
   "cell_type": "code",
   "execution_count": 30,
   "metadata": {},
   "outputs": [
    {
     "data": {
      "text/plain": [
       "array([[ 0,  0,  0, -1, -1, -1, -2, -2, -2, -3, -3, -3],\n",
       "       [ 0,  0,  0, -1, -1, -1, -2, -2, -2, -3, -3, -3],\n",
       "       [ 0,  0,  0, -1, -1, -1, -2, -2, -2, -3, -3, -3],\n",
       "       [ 1,  1,  1,  0,  0,  0, -1, -1, -1, -2, -2, -2],\n",
       "       [ 1,  1,  1,  0,  0,  0, -1, -1, -1, -2, -2, -2],\n",
       "       [ 1,  1,  1,  0,  0,  0, -1, -1, -1, -2, -2, -2],\n",
       "       [ 2,  2,  2,  1,  1,  1,  0,  0,  0, -1, -1, -1],\n",
       "       [ 2,  2,  2,  1,  1,  1,  0,  0,  0, -1, -1, -1],\n",
       "       [ 2,  2,  2,  1,  1,  1,  0,  0,  0, -1, -1, -1],\n",
       "       [ 3,  3,  3,  2,  2,  2,  1,  1,  1,  0,  0,  0],\n",
       "       [ 3,  3,  3,  2,  2,  2,  1,  1,  1,  0,  0,  0],\n",
       "       [ 3,  3,  3,  2,  2,  2,  1,  1,  1,  0,  0,  0]])"
      ]
     },
     "execution_count": 30,
     "metadata": {},
     "output_type": "execute_result"
    }
   ],
   "source": [
    "alpha_grid"
   ]
  },
  {
   "cell_type": "code",
   "execution_count": 31,
   "metadata": {},
   "outputs": [],
   "source": [
    "beta_grid = betaij(Nx, Ny, order='row')"
   ]
  },
  {
   "cell_type": "code",
   "execution_count": 32,
   "metadata": {},
   "outputs": [
    {
     "data": {
      "image/png": "[encoded data removed]",
      "text/plain": [
       "<Figure size 432x288 with 2 Axes>"
      ]
     },
     "metadata": {},
     "output_type": "display_data"
    }
   ],
   "source": [
    "plot_grid(beta_grid)"
   ]
  },
  {
   "cell_type": "code",
   "execution_count": 33,
   "metadata": {},
   "outputs": [
    {
     "data": {
      "text/plain": [
       "array([[ 0, -1, -2,  0, -1, -2,  0, -1, -2,  0, -1, -2],\n",
       "       [ 1,  0, -1,  1,  0, -1,  1,  0, -1,  1,  0, -1],\n",
       "       [ 2,  1,  0,  2,  1,  0,  2,  1,  0,  2,  1,  0],\n",
       "       [ 0, -1, -2,  0, -1, -2,  0, -1, -2,  0, -1, -2],\n",
       "       [ 1,  0, -1,  1,  0, -1,  1,  0, -1,  1,  0, -1],\n",
       "       [ 2,  1,  0,  2,  1,  0,  2,  1,  0,  2,  1,  0],\n",
       "       [ 0, -1, -2,  0, -1, -2,  0, -1, -2,  0, -1, -2],\n",
       "       [ 1,  0, -1,  1,  0, -1,  1,  0, -1,  1,  0, -1],\n",
       "       [ 2,  1,  0,  2,  1,  0,  2,  1,  0,  2,  1,  0],\n",
       "       [ 0, -1, -2,  0, -1, -2,  0, -1, -2,  0, -1, -2],\n",
       "       [ 1,  0, -1,  1,  0, -1,  1,  0, -1,  1,  0, -1],\n",
       "       [ 2,  1,  0,  2,  1,  0,  2,  1,  0,  2,  1,  0]])"
      ]
     },
     "execution_count": 33,
     "metadata": {},
     "output_type": "execute_result"
    }
   ],
   "source": [
    "beta_grid"
   ]
  },
  {
   "cell_type": "code",
   "execution_count": 34,
   "metadata": {},
   "outputs": [],
   "source": [
    "R = np.sqrt((alpha_grid*Dx)**2 + (beta_grid*Dy)**2 + (np.ones((Nx*Ny, Nx*Ny))*Dz)**2)"
   ]
  },
  {
   "cell_type": "code",
   "execution_count": 35,
   "metadata": {},
   "outputs": [
    {
     "data": {
      "image/png": "[encoded data removed]",
      "text/plain": [
       "<Figure size 432x288 with 2 Axes>"
      ]
     },
     "metadata": {},
     "output_type": "display_data"
    }
   ],
   "source": [
    "plot_grid(R, cmap='viridis')"
   ]
  },
  {
   "cell_type": "code",
   "execution_count": null,
   "metadata": {},
   "outputs": [],
   "source": []
  }
 ],
 "metadata": {
  "kernelspec": {
   "display_name": "Python 3",
   "language": "python",
   "name": "python3"
  },
  "language_info": {
   "codemirror_mode": {
    "name": "ipython",
    "version": 3
   },
   "file_extension": ".py",
   "mimetype": "text/x-python",
   "name": "python",
   "nbconvert_exporter": "python",
   "pygments_lexer": "ipython3",
   "version": "3.6.8"
  }
 },
 "nbformat": 4,
 "nbformat_minor": 2
}
